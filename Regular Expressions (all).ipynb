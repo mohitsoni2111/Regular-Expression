{
 "cells": [
  {
   "cell_type": "code",
   "execution_count": 132,
   "metadata": {},
   "outputs": [],
   "source": [
    "import re"
   ]
  },
  {
   "cell_type": "markdown",
   "metadata": {},
   "source": [
    "# 1. Compiling RE:\n",
    "RE are compiled into PATTERN OBJECTS which has methods for various operations such as searching for pattern matching or performing string substituion\n",
    "\n",
    "re.compile(pattern, flags = 0)\n",
    "\n",
    "Compiling a RE pattern, returns a pattern object\n",
    "\n",
    "The RE is passed to re.compile() as a string\n",
    " 1. RE are handled as a string coz, RE is not a part of core python & no specil syntax was created for expressing them.\n",
    " 2. RE pattern are compiled into a series of bytecodes whivh are them executed by a matching engine written in c."
   ]
  },
  {
   "cell_type": "code",
   "execution_count": 4,
   "metadata": {},
   "outputs": [],
   "source": [
    "pattern  = re.compile(\"hello\")"
   ]
  },
  {
   "cell_type": "code",
   "execution_count": 5,
   "metadata": {},
   "outputs": [
    {
     "data": {
      "text/plain": [
       "re.Pattern"
      ]
     },
     "execution_count": 5,
     "metadata": {},
     "output_type": "execute_result"
    }
   ],
   "source": [
    "type(pattern)"
   ]
  },
  {
   "cell_type": "code",
   "execution_count": 6,
   "metadata": {},
   "outputs": [
    {
     "data": {
      "text/plain": [
       "re.compile(r'hello', re.UNICODE)"
      ]
     },
     "execution_count": 6,
     "metadata": {},
     "output_type": "execute_result"
    }
   ],
   "source": [
    "pattern"
   ]
  },
  {
   "cell_type": "code",
   "execution_count": 7,
   "metadata": {},
   "outputs": [],
   "source": [
    "pattern = re.compile(\"hello\", flags=re.I)"
   ]
  },
  {
   "cell_type": "markdown",
   "metadata": {},
   "source": [
    "### ignorecase will also take into \"Hello\", \"hello\", etc"
   ]
  },
  {
   "cell_type": "code",
   "execution_count": 8,
   "metadata": {},
   "outputs": [
    {
     "data": {
      "text/plain": [
       "re.compile(r'hello', re.IGNORECASE|re.UNICODE)"
      ]
     },
     "execution_count": 8,
     "metadata": {},
     "output_type": "execute_result"
    }
   ],
   "source": [
    "pattern"
   ]
  },
  {
   "cell_type": "markdown",
   "metadata": {},
   "source": [
    "# TWO WAYS\n",
    "1st:\n"
   ]
  },
  {
   "cell_type": "code",
   "execution_count": 9,
   "metadata": {},
   "outputs": [],
   "source": [
    "text = 'those THAT tilt that That 8'"
   ]
  },
  {
   "cell_type": "code",
   "execution_count": 10,
   "metadata": {},
   "outputs": [
    {
     "data": {
      "text/plain": [
       "['those']"
      ]
     },
     "execution_count": 10,
     "metadata": {},
     "output_type": "execute_result"
    }
   ],
   "source": [
    "re.findall('those' ,text)"
   ]
  },
  {
   "cell_type": "markdown",
   "metadata": {},
   "source": [
    "# 2nd:"
   ]
  },
  {
   "cell_type": "code",
   "execution_count": 11,
   "metadata": {},
   "outputs": [],
   "source": [
    "pattern = re.compile('those')"
   ]
  },
  {
   "cell_type": "code",
   "execution_count": 12,
   "metadata": {},
   "outputs": [
    {
     "data": {
      "text/plain": [
       "['those']"
      ]
     },
     "execution_count": 12,
     "metadata": {},
     "output_type": "execute_result"
    }
   ],
   "source": [
    "re.findall(pattern, text)"
   ]
  },
  {
   "cell_type": "markdown",
   "metadata": {},
   "source": [
    "Including regular strings: characters we usually know as strings in Python are called ‘literals’ in the regex world. Despite that, however, using them doesn’t have any difference. Characters such as a, g, t, r, m or even numbers can be included within any special consideration. So for example if we wanted to search for the letter ‘t’ in the previous text we would do the following:"
   ]
  },
  {
   "cell_type": "code",
   "execution_count": 13,
   "metadata": {},
   "outputs": [
    {
     "data": {
      "text/plain": [
       "['t', 't', 't', 't', 't', 't']"
      ]
     },
     "execution_count": 13,
     "metadata": {},
     "output_type": "execute_result"
    }
   ],
   "source": [
    "re.findall(r'[t]',text)"
   ]
  },
  {
   "cell_type": "markdown",
   "metadata": {},
   "source": [
    "Using character classes: this utility indicates regex to search for one OR another character within a group. The group will be specified within square brackets. Take the following example:\n"
   ]
  },
  {
   "cell_type": "code",
   "execution_count": 14,
   "metadata": {},
   "outputs": [
    {
     "data": {
      "text/plain": [
       "['t', 'T', 'T', 't', 't', 't', 't', 'T', 't']"
      ]
     },
     "execution_count": 14,
     "metadata": {},
     "output_type": "execute_result"
    }
   ],
   "source": [
    "re.findall(r'[tT]',text)"
   ]
  },
  {
   "cell_type": "markdown",
   "metadata": {},
   "source": [
    "BETTER WAY"
   ]
  },
  {
   "cell_type": "code",
   "execution_count": 15,
   "metadata": {},
   "outputs": [],
   "source": [
    "pattern = re.compile(r't', flags=re.IGNORECASE)"
   ]
  },
  {
   "cell_type": "code",
   "execution_count": 16,
   "metadata": {},
   "outputs": [
    {
     "data": {
      "text/plain": [
       "['t', 'T', 'T', 't', 't', 't', 't', 'T', 't']"
      ]
     },
     "execution_count": 16,
     "metadata": {},
     "output_type": "execute_result"
    }
   ],
   "source": [
    "re.findall(pattern, text)"
   ]
  },
  {
   "cell_type": "markdown",
   "metadata": {},
   "source": [
    "character classes can also use ranges. That, in fact, is what makes them so popular"
   ]
  },
  {
   "cell_type": "code",
   "execution_count": 17,
   "metadata": {},
   "outputs": [
    {
     "data": {
      "text/plain": [
       "['t',\n",
       " 'h',\n",
       " 'o',\n",
       " 's',\n",
       " 'e',\n",
       " 't',\n",
       " 'i',\n",
       " 'l',\n",
       " 't',\n",
       " 't',\n",
       " 'h',\n",
       " 'a',\n",
       " 't',\n",
       " 'h',\n",
       " 'a',\n",
       " 't']"
      ]
     },
     "execution_count": 17,
     "metadata": {},
     "output_type": "execute_result"
    }
   ],
   "source": [
    "re.findall(r\"[a-z]\",text)"
   ]
  },
  {
   "cell_type": "code",
   "execution_count": 18,
   "metadata": {},
   "outputs": [
    {
     "data": {
      "text/plain": [
       "[' ', ' ', ' ', ' ', ' ', '8']"
      ]
     },
     "execution_count": 18,
     "metadata": {},
     "output_type": "execute_result"
    }
   ],
   "source": [
    "re.findall(r'[^a-zA-Z]',text)"
   ]
  },
  {
   "cell_type": "markdown",
   "metadata": {},
   "source": [
    "THERE IS A ERROR WHEN I TYPE THE PATTERN WITH SINGLE '' THEN IT SHOWS ERROR, BUT WHEN I CHANGED IT TO \"\", THEN ERROR IS GONE, THEN IF I TRY SINGLE '' AGAIN NO ERROR, INTERSTING<br>\n",
    "ALSO SOMETIMES OUTPUT IS HORZONTAL SOMETIMES VERTICAL??"
   ]
  },
  {
   "cell_type": "code",
   "execution_count": 19,
   "metadata": {},
   "outputs": [
    {
     "data": {
      "text/plain": [
       "['thos', 'that', 'That']"
      ]
     },
     "execution_count": 19,
     "metadata": {},
     "output_type": "execute_result"
    }
   ],
   "source": [
    "re.findall(r\"[Tt]h[^i][st]\", text)"
   ]
  },
  {
   "cell_type": "markdown",
   "metadata": {},
   "source": [
    "Breaking it in parts, we can see:<br>\n",
    "First, we’re using a class range for anything matching ‘t’ or ‘T’<br>\n",
    "Afterwards, we’re indicating anything followed by an ‘h’<br>\n",
    "Later on, we’re using negation to bring anything not followed by an ‘i’<br>\n",
    "And finally, any word finishing with and ‘s’ or a ‘t’<br>"
   ]
  },
  {
   "cell_type": "markdown",
   "metadata": {},
   "source": [
    "Shortcuts and special characters<br>\n",
    "\\w — Matches word characters (includes digits and underscores)<br>\n",
    "\\W — Matches what \\w doesn’t — non-word characters<br>\n",
    "\\d — Matches all digit characters — Digits are [0–9]<br>\n",
    "\\D — Matches all non-digit characters<br>\n",
    "\\s — Matches whitespace (including tabs)<br>\n",
    "\\S — Matches non-whitespace<br>\n",
    "\\n — Matches new lines<br>\n",
    "\\r — Matches carriage returns<br>\n",
    "\\t — Matches tabs<br>\n",
    "All of these can be used within character classes and/or with negation. Let’s see some examples:<br>"
   ]
  },
  {
   "cell_type": "code",
   "execution_count": 20,
   "metadata": {},
   "outputs": [
    {
     "data": {
      "text/plain": [
       "['t',\n",
       " 'h',\n",
       " 'o',\n",
       " 's',\n",
       " 'e',\n",
       " 'T',\n",
       " 'H',\n",
       " 'A',\n",
       " 'T',\n",
       " 't',\n",
       " 'i',\n",
       " 'l',\n",
       " 't',\n",
       " 't',\n",
       " 'h',\n",
       " 'a',\n",
       " 't',\n",
       " 'T',\n",
       " 'h',\n",
       " 'a',\n",
       " 't',\n",
       " '8']"
      ]
     },
     "execution_count": 20,
     "metadata": {},
     "output_type": "execute_result"
    }
   ],
   "source": [
    "# Get everything but blank spaces\n",
    "re.findall(r'[\\w]',text)"
   ]
  },
  {
   "cell_type": "code",
   "execution_count": 21,
   "metadata": {},
   "outputs": [
    {
     "data": {
      "text/plain": [
       "[' ', ' ', ' ', ' ', ' ']"
      ]
     },
     "execution_count": 21,
     "metadata": {},
     "output_type": "execute_result"
    }
   ],
   "source": [
    "# Get only blank spaces\n",
    "re.findall(r'[\\W]', text)"
   ]
  },
  {
   "cell_type": "code",
   "execution_count": 22,
   "metadata": {},
   "outputs": [
    {
     "data": {
      "text/plain": [
       "['t',\n",
       " 'h',\n",
       " 'o',\n",
       " 's',\n",
       " 'e',\n",
       " ' ',\n",
       " 'T',\n",
       " 'H',\n",
       " 'A',\n",
       " 'T',\n",
       " ' ',\n",
       " 't',\n",
       " 'i',\n",
       " 'l',\n",
       " 't',\n",
       " ' ',\n",
       " 't',\n",
       " 'h',\n",
       " 'a',\n",
       " 't',\n",
       " ' ',\n",
       " 'T',\n",
       " 'h',\n",
       " 'a',\n",
       " 't',\n",
       " ' ']"
      ]
     },
     "execution_count": 22,
     "metadata": {},
     "output_type": "execute_result"
    }
   ],
   "source": [
    "# Match word characters and white spaces → everything but the eight\n",
    "re.findall(r'[\\D\\s]', text)"
   ]
  },
  {
   "cell_type": "raw",
   "metadata": {},
   "source": [
    "in order to include special characters, we have to escape them, again, with a backslash.\n",
    "The special regular expression characters are:\n",
    ". \\ + * ? [ ^ ] $ ( ) { } = ! < > | : -\n",
    "\n",
    "Quantifiers\n",
    "\n",
    "This is a basic and easy tool, but an essential one too. It helps you match how many characters you want to return matching your expression:\n",
    "* — Zero or more\n",
    "+ — One or more\n",
    "? — Zero or one\n",
    "{n} — Exactly ’n’ number\n",
    "{n,} — Matches ’n’ or more occurrences\n",
    "{n,m} — Between ’n’ and ‘m’"
   ]
  },
  {
   "cell_type": "code",
   "execution_count": 23,
   "metadata": {},
   "outputs": [],
   "source": [
    "txt = \"\"\"\n",
    "Yesterday, I was driving my car without a driving licence. The traffic police stopped me and asked me for my \n",
    "license. I told them that I forgot my licence at home. \n",
    "\"\"\""
   ]
  },
  {
   "cell_type": "code",
   "execution_count": 24,
   "metadata": {},
   "outputs": [],
   "source": [
    "pattern = re.compile(\"licen[cs]e\")"
   ]
  },
  {
   "cell_type": "code",
   "execution_count": 25,
   "metadata": {},
   "outputs": [
    {
     "data": {
      "text/plain": [
       "['licence', 'license', 'licence']"
      ]
     },
     "execution_count": 25,
     "metadata": {},
     "output_type": "execute_result"
    }
   ],
   "source": [
    "pattern.findall(txt)"
   ]
  },
  {
   "cell_type": "code",
   "execution_count": 28,
   "metadata": {},
   "outputs": [],
   "source": [
    "txt = \"\"\"\n",
    "The first season of Indian Premiere League (IPL) was played in 2008. \n",
    "The second season was played in 2009 in South Africa. \n",
    "Last season was played in 2018 and won by Chennai Super Kings (CSK).\n",
    "CSK won the title in 2010 and 2011 as well.\n",
    "Mumbai Indians (MI) has also won the title 3 times in 2013, 2015 and 2017.\n",
    "\"\"\""
   ]
  },
  {
   "cell_type": "code",
   "execution_count": 30,
   "metadata": {},
   "outputs": [],
   "source": [
    "pattern = re.compile(\"[1-9][0-9][0-9][0-9]\")"
   ]
  },
  {
   "cell_type": "code",
   "execution_count": 31,
   "metadata": {},
   "outputs": [
    {
     "data": {
      "text/plain": [
       "['2008', '2009', '2018', '2010', '2011', '2013', '2015', '2017']"
      ]
     },
     "execution_count": 31,
     "metadata": {},
     "output_type": "execute_result"
    }
   ],
   "source": [
    "pattern.findall(txt)"
   ]
  },
  {
   "cell_type": "code",
   "execution_count": 32,
   "metadata": {},
   "outputs": [
    {
     "data": {
      "text/plain": [
       "['(', ')', '.', '.', '(', ')', '.', '.', '(', ')', ',', '.']"
      ]
     },
     "execution_count": 32,
     "metadata": {},
     "output_type": "execute_result"
    }
   ],
   "source": [
    "re.findall(\"[^\\w\\s]\", txt)"
   ]
  },
  {
   "cell_type": "code",
   "execution_count": 33,
   "metadata": {},
   "outputs": [],
   "source": [
    "txt = \"\"\"\n",
    "C:\\Windows\n",
    "C:\\Python\n",
    "C:\\Windows\\System32\n",
    "\"\"\""
   ]
  },
  {
   "cell_type": "code",
   "execution_count": 34,
   "metadata": {},
   "outputs": [],
   "source": [
    "pattern = re.compile(\"C:\\Windows\\System32\")"
   ]
  },
  {
   "cell_type": "code",
   "execution_count": 35,
   "metadata": {},
   "outputs": [],
   "source": [
    "pattern.search(txt)"
   ]
  },
  {
   "cell_type": "markdown",
   "metadata": {},
   "source": [
    "Why are no matches found for above pattern?¶<br>\n",
    "Regex Engine is treateing \\ as metacharacters, whereas we intend to treat it like a literal.<br>\n",
    "\n",
    "Solution???<br>\n",
    "We need to escape the metacharacters. A metacharacter can be escaped by putting a \\ before it.<br>"
   ]
  },
  {
   "cell_type": "code",
   "execution_count": 36,
   "metadata": {},
   "outputs": [],
   "source": [
    "pattern = re.compile(\"C:\\\\Windows\\\\System32\")"
   ]
  },
  {
   "cell_type": "code",
   "execution_count": 37,
   "metadata": {},
   "outputs": [],
   "source": [
    "pattern.search(txt)"
   ]
  },
  {
   "cell_type": "code",
   "execution_count": 38,
   "metadata": {},
   "outputs": [
    {
     "name": "stdout",
     "output_type": "stream",
     "text": [
      "C:\\Windows\\System32\n"
     ]
    }
   ],
   "source": [
    "print(\"C:\\\\Windows\\\\System32\")"
   ]
  },
  {
   "cell_type": "markdown",
   "metadata": {},
   "source": [
    "Still no match found. Why???<br>\n",
    "\\ is used as an escape at two different levels.\n",
    "\n",
    "1.First, the Python interpreter itself performs substitutions for \\ before the re module ever sees the pattern string. For instance, \\n is converted to a newline character, \\t is converted to a tab character, etc.<br>\n",
    "\n",
    "2.Finally, re reads the substituted pattern string and will apply its own substitutions for \\ character.<br>\n",
    "\n",
    "Hence, to use \\ as a literal, we first escape \\ with \\\\ for python interpreter and then escape \\\\ as \\\\\\\\ for regex engine.<br>"
   ]
  },
  {
   "cell_type": "code",
   "execution_count": 39,
   "metadata": {},
   "outputs": [],
   "source": [
    "pattern = re.compile(\"C:\\\\\\\\Windows\\\\\\\\System32\")"
   ]
  },
  {
   "cell_type": "code",
   "execution_count": 40,
   "metadata": {},
   "outputs": [
    {
     "data": {
      "text/plain": [
       "<re.Match object; span=(22, 41), match='C:\\\\Windows\\\\System32'>"
      ]
     },
     "execution_count": 40,
     "metadata": {},
     "output_type": "execute_result"
    }
   ],
   "source": [
    "pattern.search(txt)"
   ]
  },
  {
   "cell_type": "markdown",
   "metadata": {},
   "source": [
    "Do we really need to use 2 backslashes?<br>\n",
    "If you are not using any metacharacters in your regex pattern, you can use re.escape() method to escape all the characters in pattern except ASCII letters, numbers and '_'."
   ]
  },
  {
   "cell_type": "code",
   "execution_count": 41,
   "metadata": {},
   "outputs": [
    {
     "data": {
      "text/plain": [
       "'C:\\\\\\\\Windows\\\\\\\\System32'"
      ]
     },
     "execution_count": 41,
     "metadata": {},
     "output_type": "execute_result"
    }
   ],
   "source": [
    "re.escape(\"C:\\Windows\\System32\")"
   ]
  },
  {
   "cell_type": "code",
   "execution_count": 42,
   "metadata": {},
   "outputs": [
    {
     "data": {
      "text/plain": [
       "<re.Match object; span=(22, 41), match='C:\\\\Windows\\\\System32'>"
      ]
     },
     "execution_count": 42,
     "metadata": {},
     "output_type": "execute_result"
    }
   ],
   "source": [
    "re.search(re.escape(\"C:\\Windows\\System32\"), txt)"
   ]
  },
  {
   "cell_type": "markdown",
   "metadata": {},
   "source": [
    "Alteration<br>\n",
    "Just like character classes are used to match a single character out of several possible characters, alternation is used to match a single regular expression out of several possible regular expressions.<br><br>\n",
    "\n",
    "This is accomplished using the pipe symbol |.<br><br>\n",
    "\n",
    "Consider a scenario where you want to find all occurances of and, or, the in a given text.<br><br>\n",
    "\n",
    "One way is to write and execute 3 separate regular expressions. Using alteration, it can be done in a single regular expression!"
   ]
  },
  {
   "cell_type": "code",
   "execution_count": 43,
   "metadata": {},
   "outputs": [],
   "source": [
    "txt = \"\"\"\n",
    "the most common conjunctions are and, or and but.\n",
    "\"\"\""
   ]
  },
  {
   "cell_type": "code",
   "execution_count": 44,
   "metadata": {},
   "outputs": [],
   "source": [
    "pattern = re.compile(\"and|or|the\")"
   ]
  },
  {
   "cell_type": "code",
   "execution_count": 45,
   "metadata": {},
   "outputs": [
    {
     "data": {
      "text/plain": [
       "['the', 'and', 'or', 'and']"
      ]
     },
     "execution_count": 45,
     "metadata": {},
     "output_type": "execute_result"
    }
   ],
   "source": [
    "pattern.findall(txt)"
   ]
  },
  {
   "cell_type": "code",
   "execution_count": 46,
   "metadata": {},
   "outputs": [],
   "source": [
    "txt = \"\"\"\n",
    "What is your name?\n",
    "Who is that guy?\n",
    "\"\"\""
   ]
  },
  {
   "cell_type": "code",
   "execution_count": 47,
   "metadata": {},
   "outputs": [],
   "source": [
    "pattern = re.compile(\"What|Who is\")"
   ]
  },
  {
   "cell_type": "markdown",
   "metadata": {},
   "source": [
    "Output will be \n",
    "\n",
    "What<br>\n",
    "who is"
   ]
  },
  {
   "cell_type": "code",
   "execution_count": 48,
   "metadata": {},
   "outputs": [],
   "source": [
    "pattern = re.compile(\"(What|Who) is\")"
   ]
  },
  {
   "cell_type": "markdown",
   "metadata": {},
   "source": [
    "Output will be \n",
    "\n",
    "What is <br>\n",
    "who is"
   ]
  },
  {
   "cell_type": "raw",
   "metadata": {},
   "source": [
    "Quantifiers\n",
    "Quantifiers are the mechanisms to define how a character, metacharacter, or character set can be repeated.\n",
    "\n",
    "Here is the list of 4 basic quantifers:\n",
    "\n",
    "Symbol\tName\t        Quantification of previous character\n",
    "?\t    Question Mark\tOptional (0 or 1 repetitions)\n",
    "*\t    Asterisk\t    Zero or more times\n",
    "+\t    Plus Sign\t    One or more times\n",
    "{n,m}\tCurly Braces\tBetween n and m times\n",
    "Let us go through different examples to understand them one by one.\n",
    "\n",
    "many more.. https://docs.python.org/2/library/re.html#"
   ]
  },
  {
   "cell_type": "markdown",
   "metadata": {},
   "source": [
    "Example 1<br>\n",
    "Find all the matches for dog and dogs in the given text."
   ]
  },
  {
   "cell_type": "code",
   "execution_count": 49,
   "metadata": {},
   "outputs": [],
   "source": [
    "txt = \"\"\"\n",
    "I have 2 dogs. One dog is 1 year old and other one is 2 years old. Both dogs are very cute! \n",
    "\"\"\""
   ]
  },
  {
   "cell_type": "code",
   "execution_count": 50,
   "metadata": {},
   "outputs": [],
   "source": [
    "pattern = re.compile(\"dogs?\")"
   ]
  },
  {
   "cell_type": "code",
   "execution_count": 56,
   "metadata": {},
   "outputs": [
    {
     "data": {
      "text/plain": [
       "['file1.txt', 'file_one.txt', 'file.txt', 'file-1.txt']"
      ]
     },
     "execution_count": 56,
     "metadata": {},
     "output_type": "execute_result"
    }
   ],
   "source": [
    "pattern.findall(txt)"
   ]
  },
  {
   "cell_type": "markdown",
   "metadata": {},
   "source": [
    "#### Example 2\n",
    "Find all filenames starting with file and ending with .txt in the given text."
   ]
  },
  {
   "cell_type": "code",
   "execution_count": 58,
   "metadata": {},
   "outputs": [],
   "source": [
    "txt = \"\"\"\n",
    "file1.txt\n",
    "file_one.txt\n",
    "file.txt\n",
    "fil.txt\n",
    "file.xml\n",
    "file-1.txt\n",
    "\"\"\""
   ]
  },
  {
   "cell_type": "code",
   "execution_count": 54,
   "metadata": {},
   "outputs": [],
   "source": [
    "pattern = re.compile(\"file[\\w-]*\\.txt\")"
   ]
  },
  {
   "cell_type": "code",
   "execution_count": 55,
   "metadata": {},
   "outputs": [
    {
     "data": {
      "text/plain": [
       "['file1.txt', 'file_one.txt', 'file.txt', 'file-1.txt']"
      ]
     },
     "execution_count": 55,
     "metadata": {},
     "output_type": "execute_result"
    }
   ],
   "source": [
    "pattern.findall(txt)"
   ]
  },
  {
   "cell_type": "markdown",
   "metadata": {},
   "source": [
    "#### Example 3\n",
    "Find all filenames starting with file followed by 1 or more digits and ending with .txt in the given text."
   ]
  },
  {
   "cell_type": "code",
   "execution_count": 59,
   "metadata": {},
   "outputs": [],
   "source": [
    "txt = \"\"\"\n",
    "file1.txt\n",
    "file_one.txt\n",
    "file09.txt\n",
    "fil.txt\n",
    "file23.xml\n",
    "file.txt\n",
    "\"\"\""
   ]
  },
  {
   "cell_type": "code",
   "execution_count": 60,
   "metadata": {},
   "outputs": [],
   "source": [
    "pattern = re.compile(\"file\\d+\\.txt\")"
   ]
  },
  {
   "cell_type": "code",
   "execution_count": 61,
   "metadata": {},
   "outputs": [
    {
     "data": {
      "text/plain": [
       "['file1.txt', 'file09.txt']"
      ]
     },
     "execution_count": 61,
     "metadata": {},
     "output_type": "execute_result"
    }
   ],
   "source": [
    "pattern.findall(txt)"
   ]
  },
  {
   "cell_type": "raw",
   "metadata": {},
   "source": [
    "We can use the curly brackets syntax here with these modifications:\n",
    "\n",
    "Syntax  Description\n",
    "{n}\t    The previous character is repeated exactly n times.\n",
    "{n,}\tThe previous character is repeated at least n times.\n",
    "{,n}\tThe previous character is repeated at most n times.\n",
    "{n,m}\tThe previous character is repeated between n and m times (both inclusive)\n",
    "\n",
    "Example 4\n",
    "Find years in the given text."
   ]
  },
  {
   "cell_type": "code",
   "execution_count": 62,
   "metadata": {},
   "outputs": [],
   "source": [
    "txt = \"\"\"\n",
    "The first season of Indian Premiere League (IPL) was played in 2008. \n",
    "The second season was played in 2009 in South Africa. \n",
    "Last season was played in 2018 and won by Chennai Super Kings (CSK).\n",
    "CSK won the title in 2010 and 2011 as well.\n",
    "Mumbai Indians (MI) has also won the title 3 times in 2013, 2015 and 2017.\n",
    "\"\"\""
   ]
  },
  {
   "cell_type": "code",
   "execution_count": 63,
   "metadata": {},
   "outputs": [],
   "source": [
    "pattern = re.compile(\"\\d{4}\")"
   ]
  },
  {
   "cell_type": "code",
   "execution_count": 65,
   "metadata": {},
   "outputs": [
    {
     "data": {
      "text/plain": [
       "['2008', '2009', '2018', '2010', '2011', '2013', '2015', '2017']"
      ]
     },
     "execution_count": 65,
     "metadata": {},
     "output_type": "execute_result"
    }
   ],
   "source": [
    "pattern.findall(txt)"
   ]
  },
  {
   "cell_type": "markdown",
   "metadata": {},
   "source": [
    "#### Example 5\n",
    "In the given text, filter out all 4 or more digit numbers."
   ]
  },
  {
   "cell_type": "code",
   "execution_count": 66,
   "metadata": {},
   "outputs": [],
   "source": [
    "txt = \"\"\"\n",
    "123143\n",
    "432\n",
    "5657\n",
    "4435\n",
    "54\n",
    "65111\n",
    "\"\"\""
   ]
  },
  {
   "cell_type": "code",
   "execution_count": 67,
   "metadata": {},
   "outputs": [],
   "source": [
    "pattern = re.compile(\"\\d{4,}\")"
   ]
  },
  {
   "cell_type": "code",
   "execution_count": 68,
   "metadata": {},
   "outputs": [
    {
     "data": {
      "text/plain": [
       "['123143', '5657', '4435', '65111']"
      ]
     },
     "execution_count": 68,
     "metadata": {},
     "output_type": "execute_result"
    }
   ],
   "source": [
    "re.findall(pattern, txt)"
   ]
  },
  {
   "cell_type": "markdown",
   "metadata": {},
   "source": [
    "#### Example 6\n",
    "Write a pattern to validate telephone numbers.<br>\n",
    "\n",
    "Telephone numbers can be of the form: 555-555-5555, 555 555 5555, 5555555555"
   ]
  },
  {
   "cell_type": "code",
   "execution_count": 74,
   "metadata": {},
   "outputs": [],
   "source": [
    "txt = \"\"\"\n",
    "555-555-5555\n",
    "555 555 5555\n",
    "5555555555\n",
    "\"\"\""
   ]
  },
  {
   "cell_type": "code",
   "execution_count": 75,
   "metadata": {},
   "outputs": [],
   "source": [
    "pattern = re.compile(\"\\d{3}[-\\s]?\\d{3}[-\\s]?\\d{4}\")"
   ]
  },
  {
   "cell_type": "code",
   "execution_count": 76,
   "metadata": {},
   "outputs": [
    {
     "data": {
      "text/plain": [
       "['555-555-5555', '555 555 5555', '5555555555']"
      ]
     },
     "execution_count": 76,
     "metadata": {},
     "output_type": "execute_result"
    }
   ],
   "source": [
    "pattern.findall(txt)"
   ]
  },
  {
   "cell_type": "markdown",
   "metadata": {},
   "source": [
    "# Greedy Behaviour\n",
    "Let's consider an example."
   ]
  },
  {
   "cell_type": "code",
   "execution_count": 79,
   "metadata": {},
   "outputs": [],
   "source": [
    "txt = \"\"\"<html><head><title>Title</title>\"\"\""
   ]
  },
  {
   "cell_type": "code",
   "execution_count": 80,
   "metadata": {},
   "outputs": [],
   "source": [
    "pattern = re.compile(\"<.*>\")"
   ]
  },
  {
   "cell_type": "code",
   "execution_count": 81,
   "metadata": {},
   "outputs": [
    {
     "data": {
      "text/plain": [
       "['<html><head><title>Title</title>']"
      ]
     },
     "execution_count": 81,
     "metadata": {},
     "output_type": "execute_result"
    }
   ],
   "source": [
    "pattern.findall(txt)"
   ]
  },
  {
   "cell_type": "raw",
   "metadata": {},
   "source": [
    "This particular behaviour (to find longest match) is called greedy behaviour.\n",
    "\n",
    "The greedy behavior of the quantifiers is applied by default in the quantifiers. A greedy quantifier will try to match as much as possible to have the biggest match result possible.\n",
    "\n",
    "Non-Greedy behaviour\n",
    "The non-greedy (or reluctant) behaviour can be requested by adding an extra question mark to the quantifier.\n",
    "\n",
    "For example, ??, *? or +?.\n",
    "\n",
    "A quantifier marked as reluctant will behave like the exact opposite of the greedy ones. They will try to have the smallest match possible."
   ]
  },
  {
   "cell_type": "code",
   "execution_count": 82,
   "metadata": {},
   "outputs": [],
   "source": [
    "pattern = re.compile(\"<.*?>\")"
   ]
  },
  {
   "cell_type": "code",
   "execution_count": 83,
   "metadata": {},
   "outputs": [
    {
     "data": {
      "text/plain": [
       "['<html>', '<head>', '<title>', '</title>']"
      ]
     },
     "execution_count": 83,
     "metadata": {},
     "output_type": "execute_result"
    }
   ],
   "source": [
    "pattern.findall(txt)"
   ]
  },
  {
   "cell_type": "markdown",
   "metadata": {},
   "source": [
    "# Boundary Matchers\n",
    "\n",
    "Consider a scenario where you want to find all occurances of `and`, `or` and `the` in the given text."
   ]
  },
  {
   "cell_type": "code",
   "execution_count": 85,
   "metadata": {},
   "outputs": [],
   "source": [
    "from utils import highlight_regex_matches"
   ]
  },
  {
   "cell_type": "code",
   "execution_count": 86,
   "metadata": {},
   "outputs": [],
   "source": [
    "txt = \"\"\"\n",
    "Lorem Ipsum is simply dummy text of the printing and typesetting industry. \n",
    "Lorem Ipsum has been the industry's standard dummy text ever since the 1500s, \n",
    "when an unknown printer took a galley of type and scrambled it to make a type specimen book. \n",
    "It has survived not only five centuries, but also the leap into electronic typesetting, \n",
    "remaining essentially unchanged. \n",
    "It was popularised in the 1960s with the release of Letraset sheets containing Lorem Ipsum passages, \n",
    "and more recently with desktop publishing software like Aldus PageMaker including versions of Lorem Ipsum.\n",
    "\"\"\""
   ]
  },
  {
   "cell_type": "code",
   "execution_count": 87,
   "metadata": {},
   "outputs": [],
   "source": [
    "pattern = re.compile(\"and|or|the\")"
   ]
  },
  {
   "cell_type": "code",
   "execution_count": 88,
   "metadata": {},
   "outputs": [
    {
     "data": {
      "text/plain": [
       "['or',\n",
       " 'the',\n",
       " 'and',\n",
       " 'or',\n",
       " 'the',\n",
       " 'and',\n",
       " 'the',\n",
       " 'and',\n",
       " 'the',\n",
       " 'the',\n",
       " 'the',\n",
       " 'or',\n",
       " 'and',\n",
       " 'or',\n",
       " 'or']"
      ]
     },
     "execution_count": 88,
     "metadata": {},
     "output_type": "execute_result"
    }
   ],
   "source": [
    "pattern.findall(txt)"
   ]
  },
  {
   "cell_type": "code",
   "execution_count": 89,
   "metadata": {},
   "outputs": [
    {
     "name": "stdout",
     "output_type": "stream",
     "text": [
      "\n",
      "L\u001b[43m\u001b[1mor\u001b[0mem Ipsum is simply dummy text of \u001b[43m\u001b[1mthe\u001b[0m printing \u001b[43m\u001b[1mand\u001b[0m typesetting industry. \n",
      "L\u001b[43m\u001b[1mor\u001b[0mem Ipsum has been \u001b[43m\u001b[1mthe\u001b[0m industry's st\u001b[43m\u001b[1mand\u001b[0mard dummy text ever since \u001b[43m\u001b[1mthe\u001b[0m 1500s, \n",
      "when an unknown printer took a galley of type \u001b[43m\u001b[1mand\u001b[0m scrambled it to make a type specimen book. \n",
      "It has survived not only five centuries, but also \u001b[43m\u001b[1mthe\u001b[0m leap into electronic typesetting, \n",
      "remaining essentially unchanged. \n",
      "It was popularised in \u001b[43m\u001b[1mthe\u001b[0m 1960s with \u001b[43m\u001b[1mthe\u001b[0m release of Letraset sheets containing L\u001b[43m\u001b[1mor\u001b[0mem Ipsum passages, \n",
      "\u001b[43m\u001b[1mand\u001b[0m m\u001b[43m\u001b[1mor\u001b[0me recently with desktop publishing software like Aldus PageMaker including versions of L\u001b[43m\u001b[1mor\u001b[0mem Ipsum.\n",
      "\n"
     ]
    }
   ],
   "source": [
    "highlight_regex_matches(pattern, txt)"
   ]
  },
  {
   "cell_type": "markdown",
   "metadata": {},
   "source": [
    "There is a slight problem with the above pattern. `and`, `or`, `the` inside the words are also counted as a match where as we want to find individual strings containing `and`, `or`, `the` only.\n",
    "\n",
    "### What is the solution?\n",
    "\n",
    "Solution is to use this pattern:\n",
    "\n",
    "`\\b(and|or|the)\\b`\n",
    "\n",
    "where `\\b` is a metacharacter that matches at a position that is called a **word boundary**. \n",
    "\n",
    "Such identifiers that correspond to a particular position inside of the input are called **Boundary Matchers**.\n",
    "\n",
    "**Note:** Since `\\b` is also an escape sequence for strings in Python, we need to escape it using `\\`, i.e. `\\\\b`,  in order to treat it like a metacharacter for regex matching."
   ]
  },
  {
   "cell_type": "code",
   "execution_count": 91,
   "metadata": {},
   "outputs": [],
   "source": [
    "pattern = re.compile(\"\\\\b(and|or|the)\\\\b\")"
   ]
  },
  {
   "cell_type": "code",
   "execution_count": 92,
   "metadata": {},
   "outputs": [
    {
     "name": "stdout",
     "output_type": "stream",
     "text": [
      "\n",
      "Lorem Ipsum is simply dummy text of \u001b[43m\u001b[1mthe\u001b[0m printing \u001b[43m\u001b[1mand\u001b[0m typesetting industry. \n",
      "Lorem Ipsum has been \u001b[43m\u001b[1mthe\u001b[0m industry's standard dummy text ever since \u001b[43m\u001b[1mthe\u001b[0m 1500s, \n",
      "when an unknown printer took a galley of type \u001b[43m\u001b[1mand\u001b[0m scrambled it to make a type specimen book. \n",
      "It has survived not only five centuries, but also \u001b[43m\u001b[1mthe\u001b[0m leap into electronic typesetting, \n",
      "remaining essentially unchanged. \n",
      "It was popularised in \u001b[43m\u001b[1mthe\u001b[0m 1960s with \u001b[43m\u001b[1mthe\u001b[0m release of Letraset sheets containing Lorem Ipsum passages, \n",
      "\u001b[43m\u001b[1mand\u001b[0m more recently with desktop publishing software like Aldus PageMaker including versions of Lorem Ipsum.\n",
      "\n"
     ]
    }
   ],
   "source": [
    "highlight_regex_matches(pattern, txt)"
   ]
  },
  {
   "cell_type": "markdown",
   "metadata": {},
   "source": [
    "Here is a table which shows the list of all boundary matchers available in Python:\n",
    "\n",
    "<table style=\"border: 1px solid black; font-size:15px;\">\n",
    "<thead>\n",
    "    <th>Matcher</th>\n",
    "    <th>Description</th>\n",
    "</thead>\n",
    "    \n",
    "<tbody>\n",
    "<tr>\n",
    "    <td>^</td>\n",
    "    <td>Matches at the beginning of a line</td>\n",
    "</tr>\n",
    "    \n",
    "<tr>\n",
    "    <td>$</td>\n",
    "    <td>Matches at the end of a line</td>\n",
    "</tr>\n",
    "\n",
    "<tr>\n",
    "    <td>\\b</td>\n",
    "    <td>Matches a word boundary</td>\n",
    "</tr>\n",
    "\n",
    "<tr>\n",
    "    <td>\\B</td>\n",
    "    <td>Matches the opposite of \\b. Anything that is not a word boundary</td>\n",
    "</tr>\n",
    "\n",
    "<tr>\n",
    "    <td>\\A</td>\n",
    "    <td>Matches the beginning of the input</td>\n",
    "</tr>\n",
    "\n",
    "<tr>\n",
    "    <td>\\Z</td>\n",
    "    <td>Matches the end of the input</td>\n",
    "</tr>\n",
    "</tbody>\n",
    "</table>\n",
    "\n",
    "### Example 1\n",
    "\n",
    "Consider a scenario where we want to find all the lines in the given text which **start** with the pattern `Name:`."
   ]
  },
  {
   "cell_type": "code",
   "execution_count": 94,
   "metadata": {},
   "outputs": [],
   "source": [
    "txt = \"\"\"\n",
    "Name:\n",
    "Age: 0\n",
    "Roll No.: 15\n",
    "Grade: S\n",
    "\n",
    "Name: Ravi\n",
    "Age: -1\n",
    "Roll No.: 123 Name: ABC\n",
    "Grade: K\n",
    "\n",
    "Name: Ram\n",
    "Age: N/A\n",
    "Roll No.: 1\n",
    "Grade: G\n",
    "\"\"\""
   ]
  },
  {
   "cell_type": "code",
   "execution_count": 96,
   "metadata": {},
   "outputs": [],
   "source": [
    "pattern = re.compile(\"^Name: \\w+\", flags=re.M)"
   ]
  },
  {
   "cell_type": "code",
   "execution_count": 97,
   "metadata": {},
   "outputs": [
    {
     "data": {
      "text/plain": [
       "['Name: Ravi', 'Name: Ram']"
      ]
     },
     "execution_count": 97,
     "metadata": {},
     "output_type": "execute_result"
    }
   ],
   "source": [
    "pattern.findall(txt)"
   ]
  },
  {
   "cell_type": "markdown",
   "metadata": {},
   "source": [
    "> `re.M` (short for `re.MULTILINE`) is a flag which is used to make begin/end `(^, $)` consider each line.\n",
    "\n",
    "### Example 2\n",
    "\n",
    "Find all the sentences which do not end with a full stop (`.`) in the given text."
   ]
  },
  {
   "cell_type": "code",
   "execution_count": 98,
   "metadata": {},
   "outputs": [],
   "source": [
    "txt = \"\"\"\n",
    "Lorem Ipsum is simply dummy text of the printing and typesetting industry.\n",
    "Lorem Ipsum has been the industry's standard dummy text ever since the 1500s!\n",
    "It has survived not only five centuries, but also the leap into electronic typesetting, remaining essentially unchanged.\n",
    "It was popularised in the 1960s with the release of Letraset sheets containing Lorem Ipsum passages\n",
    "More recently with desktop publishing software like Aldus PageMaker including versions of Lorem Ipsum.\"\"\""
   ]
  },
  {
   "cell_type": "code",
   "execution_count": 99,
   "metadata": {},
   "outputs": [],
   "source": [
    "pattern = re.compile(\"^.+[^\\.]$\", flags=re.M)"
   ]
  },
  {
   "cell_type": "code",
   "execution_count": 100,
   "metadata": {},
   "outputs": [
    {
     "data": {
      "text/plain": [
       "[\"Lorem Ipsum has been the industry's standard dummy text ever since the 1500s!\",\n",
       " 'It was popularised in the 1960s with the release of Letraset sheets containing Lorem Ipsum passages']"
      ]
     },
     "execution_count": 100,
     "metadata": {},
     "output_type": "execute_result"
    }
   ],
   "source": [
    "pattern.findall(txt)"
   ]
  },
  {
   "cell_type": "code",
   "execution_count": 101,
   "metadata": {},
   "outputs": [
    {
     "name": "stdout",
     "output_type": "stream",
     "text": [
      "\n",
      "Lorem Ipsum is simply dummy text of the printing and typesetting industry.\n",
      "\u001b[43m\u001b[1mLorem Ipsum has been the industry's standard dummy text ever since the 1500s!\u001b[0m\n",
      "It has survived not only five centuries, but also the leap into electronic typesetting, remaining essentially unchanged.\n",
      "\u001b[43m\u001b[1mIt was popularised in the 1960s with the release of Letraset sheets containing Lorem Ipsum passages\u001b[0m\n",
      "More recently with desktop publishing software like Aldus PageMaker including versions of Lorem Ipsum.\n"
     ]
    }
   ],
   "source": [
    "highlight_regex_matches(pattern, txt)"
   ]
  },
  {
   "cell_type": "markdown",
   "metadata": {},
   "source": [
    "# Split using RegEx\n",
    "\n",
    "> In almost every language, you can find the split operation in strings. The big difference is that the split in the `re` module is more powerful due to which you can use a regex. So, in this case, the string is split based on the matches of the pattern.\n",
    "\n",
    "### `split(string[, maxsplit])`\n",
    "\n",
    "- Every pattern object has a `split()` method which splits the input string at all positions where a match is found.\n",
    "\n",
    "- `maxsplit` is an optional argument (default value 0) which specifies the max no. of splits that can take place. `0` value means there is no limit on the no. of splits.\n",
    "\n",
    "- Pattern match is not included in any of the substrings obtained after splitting.\n",
    "\n",
    "#### Example 1\n",
    "\n",
    "Let us try to split a string to get individual lines in it."
   ]
  },
  {
   "cell_type": "code",
   "execution_count": 102,
   "metadata": {},
   "outputs": [],
   "source": [
    "txt = \"\"\"Beautiful is better than ugly.\n",
    "Explicit is better than implicit.\n",
    "Simple is better than complex.\n",
    "Complex is better than complicated.\"\"\""
   ]
  },
  {
   "cell_type": "code",
   "execution_count": 103,
   "metadata": {},
   "outputs": [],
   "source": [
    "pattern = re.compile(\"\\n\")"
   ]
  },
  {
   "cell_type": "code",
   "execution_count": 107,
   "metadata": {},
   "outputs": [
    {
     "data": {
      "text/plain": [
       "['Beautiful is better than ugly.',\n",
       " 'Explicit is better than implicit.',\n",
       " 'Simple is better than complex.',\n",
       " 'Complex is better than complicated.']"
      ]
     },
     "execution_count": 107,
     "metadata": {},
     "output_type": "execute_result"
    }
   ],
   "source": [
    "pattern.split(txt)"
   ]
  },
  {
   "cell_type": "markdown",
   "metadata": {},
   "source": [
    "#### Example 2\n",
    "\n",
    "Let us try one more example in which we want to get all the words in the given text."
   ]
  },
  {
   "cell_type": "code",
   "execution_count": 110,
   "metadata": {},
   "outputs": [],
   "source": [
    "pattern = re.compile(\"\\W\")"
   ]
  },
  {
   "cell_type": "code",
   "execution_count": 111,
   "metadata": {},
   "outputs": [
    {
     "data": {
      "text/plain": [
       "['Beautiful',\n",
       " 'is',\n",
       " 'better',\n",
       " 'than',\n",
       " 'ugly',\n",
       " '',\n",
       " 'Explicit',\n",
       " 'is',\n",
       " 'better',\n",
       " 'than',\n",
       " 'implicit',\n",
       " '',\n",
       " 'Simple',\n",
       " 'is',\n",
       " 'better',\n",
       " 'than',\n",
       " 'complex',\n",
       " '',\n",
       " 'Complex',\n",
       " 'is',\n",
       " 'better',\n",
       " 'than',\n",
       " 'complicated',\n",
       " '']"
      ]
     },
     "execution_count": 111,
     "metadata": {},
     "output_type": "execute_result"
    }
   ],
   "source": [
    "pattern.split(txt)"
   ]
  },
  {
   "cell_type": "code",
   "execution_count": 108,
   "metadata": {},
   "outputs": [
    {
     "data": {
      "text/plain": [
       "['Beautiful is better than ugly.',\n",
       " 'Explicit is better than implicit.',\n",
       " 'Simple is better than complex.',\n",
       " 'Complex is better than complicated.']"
      ]
     },
     "execution_count": 108,
     "metadata": {},
     "output_type": "execute_result"
    }
   ],
   "source": [
    "list(filter(lambda x: x!='', pattern.split(txt)))"
   ]
  },
  {
   "cell_type": "markdown",
   "metadata": {},
   "source": [
    "#### Example 3\n",
    "\n",
    "What is we want only first 3 words? We need to split only 3 times in this case, which can be done by setting the value of `maxsplit` as 3."
   ]
  },
  {
   "cell_type": "code",
   "execution_count": 112,
   "metadata": {},
   "outputs": [
    {
     "data": {
      "text/plain": [
       "['Beautiful',\n",
       " 'is',\n",
       " 'better',\n",
       " 'than ugly.\\nExplicit is better than implicit.\\nSimple is better than complex.\\nComplex is better than complicated.']"
      ]
     },
     "execution_count": 112,
     "metadata": {},
     "output_type": "execute_result"
    }
   ],
   "source": [
    "pattern.split(txt, maxsplit=3)"
   ]
  },
  {
   "cell_type": "markdown",
   "metadata": {},
   "source": [
    "# Substitution\n",
    "\n",
    "Now, we are going to look at a method which will replace all the **leftmost non-overlapping occurrences** of a pattern in a given string and return the new string as result.\n",
    "\n",
    "### `sub(repl, string[, count=0])`\n",
    "\n",
    "- `repl` is the replacement string which gets substituted in the place of match\n",
    "\n",
    "- `string` is the input text on which substitution takes place.\n",
    "\n",
    "- `count` is an optional argument (default is 0) which specifies the max no. of substitutions that can take place.  0 means there is no limit on substitution count.\n",
    "\n",
    "\n",
    "Let us consider a case where we want to replace all occurances of numbers with a `-` in the given text."
   ]
  },
  {
   "cell_type": "code",
   "execution_count": 158,
   "metadata": {},
   "outputs": [],
   "source": [
    "txt = \"100 cats, 23 dogs, 3 rabbits\""
   ]
  },
  {
   "cell_type": "code",
   "execution_count": 162,
   "metadata": {},
   "outputs": [],
   "source": [
    "pattern = re.compile(\"\\d+\")"
   ]
  },
  {
   "cell_type": "code",
   "execution_count": 164,
   "metadata": {},
   "outputs": [
    {
     "data": {
      "text/plain": [
       "['100', '23', '3']"
      ]
     },
     "execution_count": 164,
     "metadata": {},
     "output_type": "execute_result"
    }
   ],
   "source": [
    "pattern.findall(txt)"
   ]
  },
  {
   "cell_type": "code",
   "execution_count": 165,
   "metadata": {},
   "outputs": [
    {
     "data": {
      "text/plain": [
       "3"
      ]
     },
     "execution_count": 165,
     "metadata": {},
     "output_type": "execute_result"
    }
   ],
   "source": [
    "len(pattern.findall(txt))"
   ]
  },
  {
   "cell_type": "code",
   "execution_count": 160,
   "metadata": {},
   "outputs": [
    {
     "data": {
      "text/plain": [
       "'- cats, - dogs, - rabbits'"
      ]
     },
     "execution_count": 160,
     "metadata": {},
     "output_type": "execute_result"
    }
   ],
   "source": [
    "pattern.sub(\"-\", txt)"
   ]
  },
  {
   "cell_type": "markdown",
   "metadata": {},
   "source": [
    "### `subn(repl, string[, count=0])`\n",
    "\n",
    "- Returns the substituted string as well as the no. of substitutions.\n",
    "\n",
    "- Can be thought of as a utility function over `sub()`."
   ]
  },
  {
   "cell_type": "code",
   "execution_count": 116,
   "metadata": {},
   "outputs": [
    {
     "data": {
      "text/plain": [
       "('- cats, - dogs, - rabbits', 3)"
      ]
     },
     "execution_count": 116,
     "metadata": {},
     "output_type": "execute_result"
    }
   ],
   "source": [
    "pattern.subn(\"-\", txt)"
   ]
  },
  {
   "cell_type": "markdown",
   "metadata": {},
   "source": [
    "# Compilation Flags\n",
    "\n",
    "- When compiling a pattern string into a pattern object, it's possible to **modify the standard behavior of the patterns** using **Compilation Flags**.\n",
    "\n",
    "- Multiple compilation flags can be combined using the bitwise OR \"|\".\n",
    "\n",
    "Here is a list of all the complation flags:\n",
    "\n",
    "<table style=\"border: 1px solid black; font-size:15px;\">\n",
    "<thead>\n",
    "    <th>Syntax</th>\n",
    "    <th>Meaning</th>\n",
    "</thead>\n",
    "    \n",
    "<tbody>\n",
    "<tr>\n",
    "    <td>re.IGNORECASE or re.I</td>\n",
    "    <td>ignore case.</td>\n",
    "</tr>\n",
    "\n",
    "<tr>\n",
    "    <td>re.MULTILINE or re.M</td>\n",
    "    <td>make begin/end boundary matchers (^, $) consider each line.</td>\n",
    "</tr>\n",
    "\n",
    "<tr>\n",
    "    <td>re.DOTALL or re.S</td>\n",
    "    <td>make . match newline too.</td>\n",
    "</tr>\n",
    "\n",
    "<tr>\n",
    "    <td>re.UNICODE or re.U</td>\n",
    "    <td>make {\\w, \\W, \\b, \\B} follow Unicode rules.</td>\n",
    "</tr>\n",
    "\n",
    "<tr>\n",
    "    <td>re.LOCALE or re.L</td>\n",
    "    <td>make {\\w, \\W, \\b, \\B} follow locale.</td>\n",
    "</tr>\n",
    "\n",
    "<tr>\n",
    "    <td>re.ASCII or re.A</td>\n",
    "    <td>make {\\w, \\W, \\b, \\B} perform ASCII-only matching.</td>\n",
    "</tr>\n",
    "\n",
    "<tr>\n",
    "    <td>re.VERBOSE or re.X</td>\n",
    "    <td>allow comment in regex.</td>\n",
    "</tr>\n",
    "\n",
    "<tr>\n",
    "    <td>re.DEBUG</td>\n",
    "    <td>get information about the compilation pattern.</td>\n",
    "</tr>\n",
    "</tbody>\n",
    "</table>\n",
    "\n",
    "Let's go through each one of them one by one.\n",
    "\n",
    "## 1. re.IGNORECASE or re.I\n",
    "\n",
    "This flag makes a regex pattern case-insensitive.\n",
    "\n",
    "\n",
    "Let's check out an example to find all occurances of `the` and `The` in the given text."
   ]
  },
  {
   "cell_type": "code",
   "execution_count": 117,
   "metadata": {},
   "outputs": [],
   "source": [
    "txt = \"\"\"\n",
    "The best thing about regex is that it makes the task of string manipulation so easy.\n",
    "\"\"\""
   ]
  },
  {
   "cell_type": "code",
   "execution_count": 118,
   "metadata": {},
   "outputs": [],
   "source": [
    "pattern = re.compile(\"the\", flags=re.I)"
   ]
  },
  {
   "cell_type": "code",
   "execution_count": 119,
   "metadata": {},
   "outputs": [
    {
     "data": {
      "text/plain": [
       "re.compile(r'the', re.IGNORECASE|re.UNICODE)"
      ]
     },
     "execution_count": 119,
     "metadata": {},
     "output_type": "execute_result"
    }
   ],
   "source": [
    "pattern"
   ]
  },
  {
   "cell_type": "code",
   "execution_count": 120,
   "metadata": {},
   "outputs": [
    {
     "name": "stdout",
     "output_type": "stream",
     "text": [
      "\n",
      "\u001b[43m\u001b[1mThe\u001b[0m best thing about regex is that it makes \u001b[43m\u001b[1mthe\u001b[0m task of string manipulation so easy.\n",
      "\n"
     ]
    }
   ],
   "source": [
    "highlight_regex_matches(pattern, txt)"
   ]
  },
  {
   "cell_type": "markdown",
   "metadata": {},
   "source": [
    "## 2. re.MULTILINE or re.M\n",
    "\n",
    "This flag is used to make begin/end boundary matchers (`^`, `$`) consider each line of the given text.\n",
    "\n",
    "\n",
    "Let's check out an example to find all lines starting with `A`.  "
   ]
  },
  {
   "cell_type": "code",
   "execution_count": 173,
   "metadata": {},
   "outputs": [],
   "source": [
    "txt = \"\"\"\n",
    "A man was crossing the road.\n",
    "Suddenly, a car passed before him in a very high speed.\n",
    "He was terrified\n",
    "And shocked.\n",
    "\"\"\""
   ]
  },
  {
   "cell_type": "code",
   "execution_count": 174,
   "metadata": {},
   "outputs": [],
   "source": [
    "pattern = re.compile(\"^A.+\")"
   ]
  },
  {
   "cell_type": "code",
   "execution_count": 175,
   "metadata": {},
   "outputs": [
    {
     "name": "stdout",
     "output_type": "stream",
     "text": [
      "\n",
      "A man was crossing the road.\n",
      "Suddenly, a car passed before him in a very high speed.\n",
      "He was terrified\n",
      "And shocked.\n",
      "\n"
     ]
    }
   ],
   "source": [
    "highlight_regex_matches(pattern, txt)"
   ]
  },
  {
   "cell_type": "code",
   "execution_count": 176,
   "metadata": {},
   "outputs": [],
   "source": [
    "pattern = re.compile(\"^A.+\", flags=re.M)"
   ]
  },
  {
   "cell_type": "code",
   "execution_count": 177,
   "metadata": {},
   "outputs": [
    {
     "name": "stdout",
     "output_type": "stream",
     "text": [
      "\n",
      "\u001b[43m\u001b[1mA man was crossing the road.\u001b[0m\n",
      "Suddenly, a car passed before him in a very high speed.\n",
      "He was terrified\n",
      "\u001b[43m\u001b[1mAnd shocked.\u001b[0m\n",
      "\n"
     ]
    }
   ],
   "source": [
    "highlight_regex_matches(pattern, txt)"
   ]
  },
  {
   "cell_type": "markdown",
   "metadata": {},
   "source": [
    "## 3. re.DOTALL or re.S\n",
    "\n",
    "The `.` metacharacter matches everything except newline character. If we want to make `.` match newline too, we have to set this flag.\n",
    "\n",
    "Let's consider an examle to match all the text after (and including) `car`."
   ]
  },
  {
   "cell_type": "code",
   "execution_count": 179,
   "metadata": {},
   "outputs": [],
   "source": [
    "pattern = re.compile(\"car.+\")"
   ]
  },
  {
   "cell_type": "code",
   "execution_count": 180,
   "metadata": {},
   "outputs": [
    {
     "name": "stdout",
     "output_type": "stream",
     "text": [
      "\n",
      "A man was crossing the road.\n",
      "Suddenly, a \u001b[43m\u001b[1mcar passed before him in a very high speed.\u001b[0m\n",
      "He was terrified\n",
      "And shocked.\n",
      "\n"
     ]
    }
   ],
   "source": [
    "highlight_regex_matches(pattern, txt)"
   ]
  },
  {
   "cell_type": "code",
   "execution_count": 181,
   "metadata": {},
   "outputs": [],
   "source": [
    "pattern = re.compile(\"car.+\", flags=re.S)"
   ]
  },
  {
   "cell_type": "code",
   "execution_count": 182,
   "metadata": {},
   "outputs": [
    {
     "name": "stdout",
     "output_type": "stream",
     "text": [
      "\n",
      "A man was crossing the road.\n",
      "Suddenly, a \u001b[43m\u001b[1mcar passed before him in a very high speed.\n",
      "He was terrified\n",
      "And shocked.\n",
      "\u001b[0m\n"
     ]
    }
   ],
   "source": [
    "highlight_regex_matches(pattern, txt)"
   ]
  },
  {
   "cell_type": "markdown",
   "metadata": {},
   "source": [
    "## 4. re.UNICODE or re.U\n",
    "\n",
    "Using this flag, we can make the pattern characters `{\\w, \\W, \\b, \\B}` dependent on the Unicode character properties database.\n",
    "\n",
    "> re.UNICODE is the default flag in Python 3 regex patterns.\n",
    "\n",
    "Let's consider an example where we try to work on hindi language."
   ]
  },
  {
   "cell_type": "code",
   "execution_count": 186,
   "metadata": {},
   "outputs": [],
   "source": [
    "pattern = re.compile(\"hello\")"
   ]
  },
  {
   "cell_type": "code",
   "execution_count": 187,
   "metadata": {},
   "outputs": [
    {
     "data": {
      "text/plain": [
       "re.compile(r'hello', re.UNICODE)"
      ]
     },
     "execution_count": 187,
     "metadata": {},
     "output_type": "execute_result"
    }
   ],
   "source": [
    "pattern"
   ]
  },
  {
   "cell_type": "code",
   "execution_count": 185,
   "metadata": {},
   "outputs": [
    {
     "data": {
      "text/plain": [
       "32"
      ]
     },
     "execution_count": 185,
     "metadata": {},
     "output_type": "execute_result"
    }
   ],
   "source": [
    "pattern.flags"
   ]
  },
  {
   "cell_type": "code",
   "execution_count": 127,
   "metadata": {},
   "outputs": [],
   "source": [
    "txt = \"मुझे किताबें पढ़ना बहुत पसंद है।\""
   ]
  },
  {
   "cell_type": "code",
   "execution_count": 128,
   "metadata": {},
   "outputs": [],
   "source": [
    "pattern = re.compile(\"\\w+\")"
   ]
  },
  {
   "cell_type": "code",
   "execution_count": 129,
   "metadata": {},
   "outputs": [
    {
     "data": {
      "text/plain": [
       "['म', 'झ', 'क', 'त', 'ब', 'पढ', 'न', 'बह', 'त', 'पस', 'द', 'ह']"
      ]
     },
     "execution_count": 129,
     "metadata": {},
     "output_type": "execute_result"
    }
   ],
   "source": [
    "pattern.findall(txt)"
   ]
  },
  {
   "cell_type": "code",
   "execution_count": 136,
   "metadata": {},
   "outputs": [],
   "source": [
    "import regex"
   ]
  },
  {
   "cell_type": "code",
   "execution_count": 137,
   "metadata": {},
   "outputs": [],
   "source": [
    "pattern = regex.compile(\"\\w+\")"
   ]
  },
  {
   "cell_type": "code",
   "execution_count": 138,
   "metadata": {},
   "outputs": [
    {
     "data": {
      "text/plain": [
       "['मुझे', 'किताबें', 'पढ़ना', 'बहुत', 'पसंद', 'है']"
      ]
     },
     "execution_count": 138,
     "metadata": {},
     "output_type": "execute_result"
    }
   ],
   "source": [
    "pattern.findall(txt)"
   ]
  },
  {
   "cell_type": "markdown",
   "metadata": {},
   "source": [
    "## 5. re.LOCALE or re.L\n",
    "\n",
    "> A locale is a set of environmental variables that defines the language, country, and character encoding settings (or any other special variant preferences) for your applications.\n",
    "\n",
    "This flag will make the word pattern `{\\w, \\W}` and boundary pattern `{\\b, \\B}`, dependent on the current locale. \n",
    "\n",
    "<span style=\"color:red;\">**The use of this flag is discouraged in Python 3 as the locale mechanism is very unreliable, it only handles one “culture” at a time, and it only works with 8-bit locales. Unicode matching is already enabled by default in Python 3 for Unicode (str) patterns, and it is able to handle different locales/languages.**</span>\n",
    "\n",
    "\n",
    "## 6. re.ASCII or re.A\n",
    "\n",
    "This flag will make the word pattern `{\\w, \\W}` and boundary pattern `{\\b, \\B}` perform ASCII-only matching, i.e. only A-Z, a-z, 0-9 will be considered alphanumeric characters. \n",
    "\n",
    "Let us see an example below:"
   ]
  },
  {
   "cell_type": "code",
   "execution_count": 139,
   "metadata": {},
   "outputs": [],
   "source": [
    "chars =  ''.join(chr(i) for i in range(256))"
   ]
  },
  {
   "cell_type": "code",
   "execution_count": 140,
   "metadata": {},
   "outputs": [
    {
     "name": "stdout",
     "output_type": "stream",
     "text": [
      "\u0000\u0001\u0002\u0003\u0004\u0005\u0006\u0007\b\t\n",
      "\u000b",
      "\f",
      "\r",
      "\u000e\u000f\u0010\u0011\u0012\u0013\u0014\u0015\u0016\u0017\u0018\u0019\u001a\u001b\u001c",
      "\u001d",
      "\u001e",
      "\u001f !\"#$%&'()*+,-./0123456789:;<=>?@ABCDEFGHIJKLMNOPQRSTUVWXYZ[\\]^_`abcdefghijklmnopqrstuvwxyz{|}~",
      " ¡¢£¤¥¦§¨©ª«¬­®¯°±²³´µ¶·¸¹º»¼½¾¿ÀÁÂÃÄÅÆÇÈÉÊËÌÍÎÏÐÑÒÓÔÕÖ×ØÙÚÛÜÝÞßàáâãäåæçèéêëìíîïðñòóôõö÷øùúûüýþÿ\n"
     ]
    }
   ],
   "source": [
    "print(chars)"
   ]
  },
  {
   "cell_type": "code",
   "execution_count": 141,
   "metadata": {},
   "outputs": [],
   "source": [
    "pattern = re.compile(\"\\w\")"
   ]
  },
  {
   "cell_type": "code",
   "execution_count": 142,
   "metadata": {},
   "outputs": [
    {
     "name": "stdout",
     "output_type": "stream",
     "text": [
      "\u0000\u0001\u0002\u0003\u0004\u0005\u0006\u0007\b\t\n",
      "\u000b",
      "\f",
      "\r",
      "\u000e\u000f\u0010\u0011\u0012\u0013\u0014\u0015\u0016\u0017\u0018\u0019\u001a\u001b\u001c",
      "\u001d",
      "\u001e",
      "\u001f !\"#$%&'()*+,-./\u001b[43m\u001b[1m0\u001b[0m\u001b[43m\u001b[1m1\u001b[0m\u001b[43m\u001b[1m2\u001b[0m\u001b[43m\u001b[1m3\u001b[0m\u001b[43m\u001b[1m4\u001b[0m\u001b[43m\u001b[1m5\u001b[0m\u001b[43m\u001b[1m6\u001b[0m\u001b[43m\u001b[1m7\u001b[0m\u001b[43m\u001b[1m8\u001b[0m\u001b[43m\u001b[1m9\u001b[0m:;<=>?@\u001b[43m\u001b[1mA\u001b[0m\u001b[43m\u001b[1mB\u001b[0m\u001b[43m\u001b[1mC\u001b[0m\u001b[43m\u001b[1mD\u001b[0m\u001b[43m\u001b[1mE\u001b[0m\u001b[43m\u001b[1mF\u001b[0m\u001b[43m\u001b[1mG\u001b[0m\u001b[43m\u001b[1mH\u001b[0m\u001b[43m\u001b[1mI\u001b[0m\u001b[43m\u001b[1mJ\u001b[0m\u001b[43m\u001b[1mK\u001b[0m\u001b[43m\u001b[1mL\u001b[0m\u001b[43m\u001b[1mM\u001b[0m\u001b[43m\u001b[1mN\u001b[0m\u001b[43m\u001b[1mO\u001b[0m\u001b[43m\u001b[1mP\u001b[0m\u001b[43m\u001b[1mQ\u001b[0m\u001b[43m\u001b[1mR\u001b[0m\u001b[43m\u001b[1mS\u001b[0m\u001b[43m\u001b[1mT\u001b[0m\u001b[43m\u001b[1mU\u001b[0m\u001b[43m\u001b[1mV\u001b[0m\u001b[43m\u001b[1mW\u001b[0m\u001b[43m\u001b[1mX\u001b[0m\u001b[43m\u001b[1mY\u001b[0m\u001b[43m\u001b[1mZ\u001b[0m[\\]^\u001b[43m\u001b[1m_\u001b[0m`\u001b[43m\u001b[1ma\u001b[0m\u001b[43m\u001b[1mb\u001b[0m\u001b[43m\u001b[1mc\u001b[0m\u001b[43m\u001b[1md\u001b[0m\u001b[43m\u001b[1me\u001b[0m\u001b[43m\u001b[1mf\u001b[0m\u001b[43m\u001b[1mg\u001b[0m\u001b[43m\u001b[1mh\u001b[0m\u001b[43m\u001b[1mi\u001b[0m\u001b[43m\u001b[1mj\u001b[0m\u001b[43m\u001b[1mk\u001b[0m\u001b[43m\u001b[1ml\u001b[0m\u001b[43m\u001b[1mm\u001b[0m\u001b[43m\u001b[1mn\u001b[0m\u001b[43m\u001b[1mo\u001b[0m\u001b[43m\u001b[1mp\u001b[0m\u001b[43m\u001b[1mq\u001b[0m\u001b[43m\u001b[1mr\u001b[0m\u001b[43m\u001b[1ms\u001b[0m\u001b[43m\u001b[1mt\u001b[0m\u001b[43m\u001b[1mu\u001b[0m\u001b[43m\u001b[1mv\u001b[0m\u001b[43m\u001b[1mw\u001b[0m\u001b[43m\u001b[1mx\u001b[0m\u001b[43m\u001b[1my\u001b[0m\u001b[43m\u001b[1mz\u001b[0m{|}~",
      " ¡¢£¤¥¦§¨©\u001b[43m\u001b[1mª\u001b[0m«¬­®¯°±\u001b[43m\u001b[1m²\u001b[0m\u001b[43m\u001b[1m³\u001b[0m´\u001b[43m\u001b[1mµ\u001b[0m¶·¸\u001b[43m\u001b[1m¹\u001b[0m\u001b[43m\u001b[1mº\u001b[0m»\u001b[43m\u001b[1m¼\u001b[0m\u001b[43m\u001b[1m½\u001b[0m\u001b[43m\u001b[1m¾\u001b[0m¿\u001b[43m\u001b[1mÀ\u001b[0m\u001b[43m\u001b[1mÁ\u001b[0m\u001b[43m\u001b[1mÂ\u001b[0m\u001b[43m\u001b[1mÃ\u001b[0m\u001b[43m\u001b[1mÄ\u001b[0m\u001b[43m\u001b[1mÅ\u001b[0m\u001b[43m\u001b[1mÆ\u001b[0m\u001b[43m\u001b[1mÇ\u001b[0m\u001b[43m\u001b[1mÈ\u001b[0m\u001b[43m\u001b[1mÉ\u001b[0m\u001b[43m\u001b[1mÊ\u001b[0m\u001b[43m\u001b[1mË\u001b[0m\u001b[43m\u001b[1mÌ\u001b[0m\u001b[43m\u001b[1mÍ\u001b[0m\u001b[43m\u001b[1mÎ\u001b[0m\u001b[43m\u001b[1mÏ\u001b[0m\u001b[43m\u001b[1mÐ\u001b[0m\u001b[43m\u001b[1mÑ\u001b[0m\u001b[43m\u001b[1mÒ\u001b[0m\u001b[43m\u001b[1mÓ\u001b[0m\u001b[43m\u001b[1mÔ\u001b[0m\u001b[43m\u001b[1mÕ\u001b[0m\u001b[43m\u001b[1mÖ\u001b[0m×\u001b[43m\u001b[1mØ\u001b[0m\u001b[43m\u001b[1mÙ\u001b[0m\u001b[43m\u001b[1mÚ\u001b[0m\u001b[43m\u001b[1mÛ\u001b[0m\u001b[43m\u001b[1mÜ\u001b[0m\u001b[43m\u001b[1mÝ\u001b[0m\u001b[43m\u001b[1mÞ\u001b[0m\u001b[43m\u001b[1mß\u001b[0m\u001b[43m\u001b[1mà\u001b[0m\u001b[43m\u001b[1má\u001b[0m\u001b[43m\u001b[1mâ\u001b[0m\u001b[43m\u001b[1mã\u001b[0m\u001b[43m\u001b[1mä\u001b[0m\u001b[43m\u001b[1må\u001b[0m\u001b[43m\u001b[1mæ\u001b[0m\u001b[43m\u001b[1mç\u001b[0m\u001b[43m\u001b[1mè\u001b[0m\u001b[43m\u001b[1mé\u001b[0m\u001b[43m\u001b[1mê\u001b[0m\u001b[43m\u001b[1më\u001b[0m\u001b[43m\u001b[1mì\u001b[0m\u001b[43m\u001b[1mí\u001b[0m\u001b[43m\u001b[1mî\u001b[0m\u001b[43m\u001b[1mï\u001b[0m\u001b[43m\u001b[1mð\u001b[0m\u001b[43m\u001b[1mñ\u001b[0m\u001b[43m\u001b[1mò\u001b[0m\u001b[43m\u001b[1mó\u001b[0m\u001b[43m\u001b[1mô\u001b[0m\u001b[43m\u001b[1mõ\u001b[0m\u001b[43m\u001b[1mö\u001b[0m÷\u001b[43m\u001b[1mø\u001b[0m\u001b[43m\u001b[1mù\u001b[0m\u001b[43m\u001b[1mú\u001b[0m\u001b[43m\u001b[1mû\u001b[0m\u001b[43m\u001b[1mü\u001b[0m\u001b[43m\u001b[1mý\u001b[0m\u001b[43m\u001b[1mþ\u001b[0m\u001b[43m\u001b[1mÿ\u001b[0m\n"
     ]
    }
   ],
   "source": [
    "highlight_regex_matches(pattern, chars)"
   ]
  },
  {
   "cell_type": "code",
   "execution_count": 143,
   "metadata": {},
   "outputs": [],
   "source": [
    "pattern = re.compile(\"\\w\", flags=re.A)"
   ]
  },
  {
   "cell_type": "code",
   "execution_count": 144,
   "metadata": {},
   "outputs": [
    {
     "name": "stdout",
     "output_type": "stream",
     "text": [
      "\u0000\u0001\u0002\u0003\u0004\u0005\u0006\u0007\b\t\n",
      "\u000b",
      "\f",
      "\r",
      "\u000e\u000f\u0010\u0011\u0012\u0013\u0014\u0015\u0016\u0017\u0018\u0019\u001a\u001b\u001c",
      "\u001d",
      "\u001e",
      "\u001f !\"#$%&'()*+,-./\u001b[43m\u001b[1m0\u001b[0m\u001b[43m\u001b[1m1\u001b[0m\u001b[43m\u001b[1m2\u001b[0m\u001b[43m\u001b[1m3\u001b[0m\u001b[43m\u001b[1m4\u001b[0m\u001b[43m\u001b[1m5\u001b[0m\u001b[43m\u001b[1m6\u001b[0m\u001b[43m\u001b[1m7\u001b[0m\u001b[43m\u001b[1m8\u001b[0m\u001b[43m\u001b[1m9\u001b[0m:;<=>?@\u001b[43m\u001b[1mA\u001b[0m\u001b[43m\u001b[1mB\u001b[0m\u001b[43m\u001b[1mC\u001b[0m\u001b[43m\u001b[1mD\u001b[0m\u001b[43m\u001b[1mE\u001b[0m\u001b[43m\u001b[1mF\u001b[0m\u001b[43m\u001b[1mG\u001b[0m\u001b[43m\u001b[1mH\u001b[0m\u001b[43m\u001b[1mI\u001b[0m\u001b[43m\u001b[1mJ\u001b[0m\u001b[43m\u001b[1mK\u001b[0m\u001b[43m\u001b[1mL\u001b[0m\u001b[43m\u001b[1mM\u001b[0m\u001b[43m\u001b[1mN\u001b[0m\u001b[43m\u001b[1mO\u001b[0m\u001b[43m\u001b[1mP\u001b[0m\u001b[43m\u001b[1mQ\u001b[0m\u001b[43m\u001b[1mR\u001b[0m\u001b[43m\u001b[1mS\u001b[0m\u001b[43m\u001b[1mT\u001b[0m\u001b[43m\u001b[1mU\u001b[0m\u001b[43m\u001b[1mV\u001b[0m\u001b[43m\u001b[1mW\u001b[0m\u001b[43m\u001b[1mX\u001b[0m\u001b[43m\u001b[1mY\u001b[0m\u001b[43m\u001b[1mZ\u001b[0m[\\]^\u001b[43m\u001b[1m_\u001b[0m`\u001b[43m\u001b[1ma\u001b[0m\u001b[43m\u001b[1mb\u001b[0m\u001b[43m\u001b[1mc\u001b[0m\u001b[43m\u001b[1md\u001b[0m\u001b[43m\u001b[1me\u001b[0m\u001b[43m\u001b[1mf\u001b[0m\u001b[43m\u001b[1mg\u001b[0m\u001b[43m\u001b[1mh\u001b[0m\u001b[43m\u001b[1mi\u001b[0m\u001b[43m\u001b[1mj\u001b[0m\u001b[43m\u001b[1mk\u001b[0m\u001b[43m\u001b[1ml\u001b[0m\u001b[43m\u001b[1mm\u001b[0m\u001b[43m\u001b[1mn\u001b[0m\u001b[43m\u001b[1mo\u001b[0m\u001b[43m\u001b[1mp\u001b[0m\u001b[43m\u001b[1mq\u001b[0m\u001b[43m\u001b[1mr\u001b[0m\u001b[43m\u001b[1ms\u001b[0m\u001b[43m\u001b[1mt\u001b[0m\u001b[43m\u001b[1mu\u001b[0m\u001b[43m\u001b[1mv\u001b[0m\u001b[43m\u001b[1mw\u001b[0m\u001b[43m\u001b[1mx\u001b[0m\u001b[43m\u001b[1my\u001b[0m\u001b[43m\u001b[1mz\u001b[0m{|}~",
      " ¡¢£¤¥¦§¨©ª«¬­®¯°±²³´µ¶·¸¹º»¼½¾¿ÀÁÂÃÄÅÆÇÈÉÊËÌÍÎÏÐÑÒÓÔÕÖ×ØÙÚÛÜÝÞßàáâãäåæçèéêëìíîïðñòóôõö÷øùúûüýþÿ\n"
     ]
    }
   ],
   "source": [
    "highlight_regex_matches(pattern, chars)"
   ]
  },
  {
   "cell_type": "markdown",
   "metadata": {},
   "source": [
    "## 7. re.VERBOSE or re.X\n",
    "\n",
    "This flag changes the regex syntax, to allow you to add annotations in regex. \n",
    "\n",
    "- Whitespace within the pattern is ignored, except when in a character class or preceded by an unescaped backslash.\n",
    "\n",
    "- When a line contains a # neither in a character class or preceded by an unescaped backslash, all characters from the leftmost such # through the end of the line are ignored."
   ]
  },
  {
   "cell_type": "code",
   "execution_count": 145,
   "metadata": {},
   "outputs": [],
   "source": [
    "txt = \"\"\"\n",
    "This is a sample text123\n",
    "\"\"\""
   ]
  },
  {
   "cell_type": "code",
   "execution_count": 146,
   "metadata": {},
   "outputs": [],
   "source": [
    "pattern = re.compile(\"\\w +\")"
   ]
  },
  {
   "cell_type": "code",
   "execution_count": 147,
   "metadata": {},
   "outputs": [
    {
     "data": {
      "text/plain": [
       "['s ', 's ', 'a ', 'e ']"
      ]
     },
     "execution_count": 147,
     "metadata": {},
     "output_type": "execute_result"
    }
   ],
   "source": [
    "pattern.findall(txt)"
   ]
  },
  {
   "cell_type": "code",
   "execution_count": 148,
   "metadata": {},
   "outputs": [],
   "source": [
    "pattern = re.compile(\"\\w +  # find all words\", flags=re.X)"
   ]
  },
  {
   "cell_type": "code",
   "execution_count": 149,
   "metadata": {},
   "outputs": [
    {
     "data": {
      "text/plain": [
       "['This', 'is', 'a', 'sample', 'text123']"
      ]
     },
     "execution_count": 149,
     "metadata": {},
     "output_type": "execute_result"
    }
   ],
   "source": [
    "pattern.findall(txt)"
   ]
  },
  {
   "cell_type": "markdown",
   "metadata": {},
   "source": [
    "## 8. re.DEBUG\n",
    "\n",
    "This flag when set, gives some information about the compilation pattern."
   ]
  },
  {
   "cell_type": "code",
   "execution_count": 150,
   "metadata": {},
   "outputs": [
    {
     "name": "stdout",
     "output_type": "stream",
     "text": [
      "LITERAL 8\n",
      "MAX_REPEAT 1 MAXREPEAT\n",
      "  IN\n",
      "    RANGE (97, 101)\n",
      "    RANGE (55, 57)\n",
      "LITERAL 8\n",
      "\n",
      " 0. INFO 8 0b1 3 MAXREPEAT (to 9)\n",
      "      prefix_skip 1\n",
      "      prefix [0x8] ('\\x08')\n",
      "      overlap [0]\n",
      " 9: LITERAL 0x8 ('\\x08')\n",
      "11. REPEAT_ONE 13 1 MAXREPEAT (to 25)\n",
      "15.   IN 8 (to 24)\n",
      "17.     RANGE 0x61 0x65 ('a'-'e')\n",
      "20.     RANGE 0x37 0x39 ('7'-'9')\n",
      "23.     FAILURE\n",
      "24:   SUCCESS\n",
      "25: LITERAL 0x8 ('\\x08')\n",
      "27. SUCCESS\n"
     ]
    }
   ],
   "source": [
    "pattern = re.compile(\"\\b[a-e7-9]+\\b\", flags=re.DEBUG)"
   ]
  },
  {
   "cell_type": "markdown",
   "metadata": {},
   "source": [
    "# Grouping\n",
    "\n",
    "> Frequently you need to obtain more information than just whether the regex pattern matched or not.\n",
    "\n",
    "By placing part of a regular expression inside round brackets or parentheses `(`, `)`, you can **group that part** of the regex pattern together.\n",
    "\n",
    "### Applications of grouping:\n",
    "\n",
    "#### 1. apply a quantifier to the entire group.\n",
    "\n",
    "For example, `(ab)+` will match one or more repetitions of `ab`."
   ]
  },
  {
   "cell_type": "code",
   "execution_count": 188,
   "metadata": {},
   "outputs": [],
   "source": [
    "txt = \"abbbbbabbbb\""
   ]
  },
  {
   "cell_type": "code",
   "execution_count": 189,
   "metadata": {},
   "outputs": [],
   "source": [
    "pattern1 = re.compile(\"ab+\")\n",
    "pattern2 = re.compile(\"(ab)+\")"
   ]
  },
  {
   "cell_type": "code",
   "execution_count": 190,
   "metadata": {},
   "outputs": [
    {
     "name": "stdout",
     "output_type": "stream",
     "text": [
      "\u001b[43m\u001b[1mabbbbb\u001b[0m\u001b[43m\u001b[1mabbbb\u001b[0m\n"
     ]
    }
   ],
   "source": [
    "highlight_regex_matches(pattern1, txt)"
   ]
  },
  {
   "cell_type": "code",
   "execution_count": 191,
   "metadata": {},
   "outputs": [
    {
     "name": "stdout",
     "output_type": "stream",
     "text": [
      "\u001b[43m\u001b[1mab\u001b[0mbbbb\u001b[43m\u001b[1mab\u001b[0mbbb\n"
     ]
    }
   ],
   "source": [
    "highlight_regex_matches(pattern2, txt)"
   ]
  },
  {
   "cell_type": "markdown",
   "metadata": {},
   "source": [
    "#### 2. restrict alternation to part of the regex.\n",
    "\n",
    "For example, `my name is ram|sam` will match `my name is ram` and `sam` whereas `my name is (ram|sam)` will match `my name is ram` and `my name is sam`."
   ]
  },
  {
   "cell_type": "code",
   "execution_count": 192,
   "metadata": {},
   "outputs": [],
   "source": [
    "txt = \"\"\"\n",
    "my name is ram\n",
    "my name is sam\n",
    "\"\"\""
   ]
  },
  {
   "cell_type": "code",
   "execution_count": 193,
   "metadata": {},
   "outputs": [],
   "source": [
    "pattern1 = re.compile(\"my name is ram|sam\")\n",
    "pattern2 = re.compile(\"my name is (ram|sam)\")"
   ]
  },
  {
   "cell_type": "code",
   "execution_count": 194,
   "metadata": {},
   "outputs": [
    {
     "name": "stdout",
     "output_type": "stream",
     "text": [
      "\n",
      "\u001b[43m\u001b[1mmy name is ram\u001b[0m\n",
      "my name is \u001b[43m\u001b[1msam\u001b[0m\n",
      "\n"
     ]
    }
   ],
   "source": [
    "highlight_regex_matches(pattern1, txt)"
   ]
  },
  {
   "cell_type": "code",
   "execution_count": 195,
   "metadata": {},
   "outputs": [
    {
     "name": "stdout",
     "output_type": "stream",
     "text": [
      "\n",
      "\u001b[43m\u001b[1mmy name is ram\u001b[0m\n",
      "\u001b[43m\u001b[1mmy name is sam\u001b[0m\n",
      "\n"
     ]
    }
   ],
   "source": [
    "highlight_regex_matches(pattern2, txt)"
   ]
  },
  {
   "cell_type": "markdown",
   "metadata": {},
   "source": [
    "#### 3. capture the text matched by group.\n",
    "\n",
    "- Groups indicated with `(`, `)` also capture the **starting** and **ending** index of the text that they match.\n",
    "\n",
    "- Groups can be retrieved by passing an argument to `group()`, `start()`, `end()`, and `span()` of the `Match` object. \n",
    "\n",
    "- Groups are numbered starting with `0`. \n",
    "\n",
    "- Group `0` is always present; it captures the whole regex pattern, so all `Match` object methods have group `0` as their default argument.\n",
    "\n",
    "Consider an example where we want to parse a date and determine day, month and year."
   ]
  },
  {
   "cell_type": "code",
   "execution_count": 210,
   "metadata": {},
   "outputs": [],
   "source": [
    "txt = \"12/02/2019\" "
   ]
  },
  {
   "cell_type": "code",
   "execution_count": 211,
   "metadata": {},
   "outputs": [],
   "source": [
    "pattern = re.compile(\"(\\d{2})\\/(\\d{2})\\/(\\d{4})\")"
   ]
  },
  {
   "cell_type": "code",
   "execution_count": 212,
   "metadata": {},
   "outputs": [],
   "source": [
    "match = pattern.match(txt)"
   ]
  },
  {
   "cell_type": "code",
   "execution_count": 213,
   "metadata": {},
   "outputs": [
    {
     "data": {
      "text/plain": [
       "'12/02/2019'"
      ]
     },
     "execution_count": 213,
     "metadata": {},
     "output_type": "execute_result"
    }
   ],
   "source": [
    "# group 0: matches entire regex pattern\n",
    "match.group(0)"
   ]
  },
  {
   "cell_type": "code",
   "execution_count": 214,
   "metadata": {},
   "outputs": [
    {
     "data": {
      "text/plain": [
       "'12'"
      ]
     },
     "execution_count": 214,
     "metadata": {},
     "output_type": "execute_result"
    }
   ],
   "source": [
    "# group 1: match 1st group\n",
    "match.group(1)"
   ]
  },
  {
   "cell_type": "code",
   "execution_count": 215,
   "metadata": {},
   "outputs": [
    {
     "data": {
      "text/plain": [
       "'02'"
      ]
     },
     "execution_count": 215,
     "metadata": {},
     "output_type": "execute_result"
    }
   ],
   "source": [
    "match.group(2)"
   ]
  },
  {
   "cell_type": "code",
   "execution_count": 216,
   "metadata": {},
   "outputs": [
    {
     "data": {
      "text/plain": [
       "'2019'"
      ]
     },
     "execution_count": 216,
     "metadata": {},
     "output_type": "execute_result"
    }
   ],
   "source": [
    "match.group(3)"
   ]
  },
  {
   "cell_type": "code",
   "execution_count": 218,
   "metadata": {},
   "outputs": [
    {
     "data": {
      "text/plain": [
       "'12/02/2019'"
      ]
     },
     "execution_count": 218,
     "metadata": {},
     "output_type": "execute_result"
    }
   ],
   "source": [
    "match.group()"
   ]
  },
  {
   "cell_type": "code",
   "execution_count": 219,
   "metadata": {},
   "outputs": [],
   "source": [
    "day, month, year = match.groups()"
   ]
  },
  {
   "cell_type": "code",
   "execution_count": 221,
   "metadata": {},
   "outputs": [
    {
     "data": {
      "text/plain": [
       "('12', '02', '2019')"
      ]
     },
     "execution_count": 221,
     "metadata": {},
     "output_type": "execute_result"
    }
   ],
   "source": [
    "day, month, year"
   ]
  },
  {
   "cell_type": "code",
   "execution_count": 223,
   "metadata": {},
   "outputs": [
    {
     "data": {
      "text/plain": [
       "'12'"
      ]
     },
     "execution_count": 223,
     "metadata": {},
     "output_type": "execute_result"
    }
   ],
   "source": [
    "day"
   ]
  },
  {
   "cell_type": "code",
   "execution_count": 224,
   "metadata": {},
   "outputs": [
    {
     "data": {
      "text/plain": [
       "'02'"
      ]
     },
     "execution_count": 224,
     "metadata": {},
     "output_type": "execute_result"
    }
   ],
   "source": [
    "month"
   ]
  },
  {
   "cell_type": "code",
   "execution_count": 225,
   "metadata": {},
   "outputs": [
    {
     "data": {
      "text/plain": [
       "'2019'"
      ]
     },
     "execution_count": 225,
     "metadata": {},
     "output_type": "execute_result"
    }
   ],
   "source": [
    "year"
   ]
  },
  {
   "cell_type": "markdown",
   "metadata": {},
   "source": [
    "Let's try one more example of group capturing. \n",
    "\n",
    "In the given text, find all the patterns with `Name: <some-name>` and extract `<some-name>`. "
   ]
  },
  {
   "cell_type": "code",
   "execution_count": 206,
   "metadata": {},
   "outputs": [],
   "source": [
    "txt = \"\"\"\n",
    "Name: Nikhil\n",
    "Age: 0\n",
    "Roll No.: 15\n",
    "Grade: S\n",
    "\n",
    "Name: Ravi\n",
    "Age: -1\n",
    "Roll No.: 123\n",
    "Grade: K\n",
    "\n",
    "Name: Ram\n",
    "Age: N/A\n",
    "Roll No.: 1\n",
    "Grade: G\n",
    "\"\"\""
   ]
  },
  {
   "cell_type": "code",
   "execution_count": 207,
   "metadata": {},
   "outputs": [],
   "source": [
    "pattern = re.compile(\"Name: (.+)\\n\")"
   ]
  },
  {
   "cell_type": "code",
   "execution_count": 208,
   "metadata": {},
   "outputs": [
    {
     "data": {
      "text/plain": [
       "['Nikhil', 'Ravi', 'Ram']"
      ]
     },
     "execution_count": 208,
     "metadata": {},
     "output_type": "execute_result"
    }
   ],
   "source": [
    "pattern.findall(txt)"
   ]
  },
  {
   "cell_type": "markdown",
   "metadata": {},
   "source": [
    "> Parentheses cannot be used inside character classes, at least not as metacharacters. When you put a parenthesis in a character class, it is treated as a literal character. So the regex `[(a)b]` matches `a`, `b`, `(`, and `)`."
   ]
  },
  {
   "cell_type": "markdown",
   "metadata": {},
   "source": [
    "# Backreferencing\n",
    "\n",
    "**Backreferences** in a pattern allow you to specify that the contents of an earlier capturing group must also be found at the current location in the string. \n",
    "\n",
    "> For example, `\\1` will succeed if the exact contents of group `1` can be found at the current position, and fails otherwise.\n",
    "\n",
    "### Example 1\n",
    "\n",
    "Consider a scenario where we want to find all the duplicated words in the given text."
   ]
  },
  {
   "cell_type": "code",
   "execution_count": 226,
   "metadata": {},
   "outputs": [],
   "source": [
    "txt = \"\"\"\n",
    "hello hello\n",
    "how are you\n",
    "bye bye\n",
    "\"\"\""
   ]
  },
  {
   "cell_type": "code",
   "execution_count": 227,
   "metadata": {},
   "outputs": [],
   "source": [
    "pattern = re.compile(\"(\\w+) \\\\1\")"
   ]
  },
  {
   "cell_type": "code",
   "execution_count": 231,
   "metadata": {},
   "outputs": [
    {
     "data": {
      "text/plain": [
       "['hello', 'bye']"
      ]
     },
     "execution_count": 231,
     "metadata": {},
     "output_type": "execute_result"
    }
   ],
   "source": [
    "pattern.findall(txt)"
   ]
  },
  {
   "cell_type": "markdown",
   "metadata": {},
   "source": [
    "> Since Python’s string literals also use a **backslash followed by numbers** to allow including arbitrary characters in a string, backreferences need to be **escaped** so that regex engine gets proper format. We can also use **raw strings** to ignore escaping.\n",
    "\n",
    "Here is an example using raw strings."
   ]
  },
  {
   "cell_type": "code",
   "execution_count": 229,
   "metadata": {},
   "outputs": [],
   "source": [
    "pattern = re.compile(r\"(\\w+) \\1\")"
   ]
  },
  {
   "cell_type": "code",
   "execution_count": 230,
   "metadata": {},
   "outputs": [
    {
     "data": {
      "text/plain": [
       "['hello', 'bye']"
      ]
     },
     "execution_count": 230,
     "metadata": {},
     "output_type": "execute_result"
    }
   ],
   "source": [
    "pattern.findall(txt)"
   ]
  },
  {
   "cell_type": "markdown",
   "metadata": {},
   "source": [
    "> Since Python’s string literals also use a **backslash followed by numbers** to allow including arbitrary characters in a string, backreferences need to be **escaped** so that regex engine gets proper format. We can also use **raw strings** to ignore escaping.\n",
    "\n",
    "Here is an example using raw strings."
   ]
  },
  {
   "cell_type": "markdown",
   "metadata": {},
   "source": [
    "### Example 2\n",
    "\n",
    "Consider a scenario where we want to find all dates with the format `dd/mm/yyy` and change them to `yyyy-mm-dd` format. "
   ]
  },
  {
   "cell_type": "code",
   "execution_count": 233,
   "metadata": {},
   "outputs": [],
   "source": [
    "txt = \"\"\"\n",
    "today is 23/02/2019.\n",
    "yesterday was 22/02/2019.\n",
    "tomorrow is 24/02/2019.\n",
    "\"\"\""
   ]
  },
  {
   "cell_type": "code",
   "execution_count": 234,
   "metadata": {},
   "outputs": [],
   "source": [
    "pattern = re.compile(\"(\\d{2})\\/(\\d{2})\\/(\\d{4})\")"
   ]
  },
  {
   "cell_type": "code",
   "execution_count": 235,
   "metadata": {},
   "outputs": [],
   "source": [
    "newtxt = pattern.sub(r\"\\3-\\2-\\1\", txt)"
   ]
  },
  {
   "cell_type": "code",
   "execution_count": 236,
   "metadata": {},
   "outputs": [
    {
     "name": "stdout",
     "output_type": "stream",
     "text": [
      "\n",
      "today is 2019-02-23.\n",
      "yesterday was 2019-02-22.\n",
      "tomorrow is 2019-02-24.\n",
      "\n"
     ]
    }
   ],
   "source": [
    "print(newtxt)"
   ]
  },
  {
   "cell_type": "markdown",
   "metadata": {},
   "source": [
    "> Backreferences, too, cannot be used inside a character class. The `\\1` in a regex like `(a)[\\1b]` is either an error or a needlessly escaped literal 1. "
   ]
  },
  {
   "cell_type": "markdown",
   "metadata": {},
   "source": [
    "# Named Groups\n",
    "\n",
    "> Using numbers to refer to groups can be tedious and confusing, and the worst thing is that it doesn't allow you to give meaning or context to the group. That's why we have named groups.\n",
    "\n",
    "Instead of referring to groups by numbers, groups can be referenced by a name. Such a group is called a **named group**.\n",
    "\n",
    "- The syntax for a named group is one of the Python-specific extensions: `(?P<name>...)`  where `name` is, obviously, the name of the group. \n",
    "\n",
    "- Named groups behave exactly like capturing groups, and additionally associate a name with a group.\n",
    "\n",
    "- Here is a table which shows three different ways to refer to named groups:\n",
    "    \n",
    "<table style=\"border: 1px solid black; font-size:15px;\">\n",
    "<thead>\n",
    "    <th>Use</th>\n",
    "    <th>Syntax</th>\n",
    "</thead>\n",
    "    \n",
    "<tbody>\n",
    "<tr>\n",
    "    <td>Inside a pattern</td>\n",
    "    <td>(?P=name)</td>\n",
    "</tr>\n",
    "    \n",
    "<tr>\n",
    "    <td>In the repl string of the sub operation</td>\n",
    "    <td>\\g&lt;name&gt;</td>\n",
    "</tr>\n",
    "\n",
    "<tr>\n",
    "    <td>In any of the operations of the MatchObject</td>\n",
    "    <td>match.group('name')</td>\n",
    "</tr>\n",
    "</tbody>\n",
    "</table>\n",
    "\n",
    "### Example 1\n",
    "\n",
    "Consider a scenario where we want to extract the first name and last name of a person."
   ]
  },
  {
   "cell_type": "code",
   "execution_count": 276,
   "metadata": {},
   "outputs": [],
   "source": [
    "txt = \"Nikhil Kumar\""
   ]
  },
  {
   "cell_type": "code",
   "execution_count": 277,
   "metadata": {},
   "outputs": [],
   "source": [
    "pattern = re.compile(\"(?P<first>\\w+) (?P<last>\\w+)\")"
   ]
  },
  {
   "cell_type": "code",
   "execution_count": 278,
   "metadata": {},
   "outputs": [],
   "source": [
    "match = pattern.match(txt)"
   ]
  },
  {
   "cell_type": "code",
   "execution_count": 279,
   "metadata": {},
   "outputs": [
    {
     "data": {
      "text/plain": [
       "'Nikhil'"
      ]
     },
     "execution_count": 279,
     "metadata": {},
     "output_type": "execute_result"
    }
   ],
   "source": [
    "match.group('first')"
   ]
  },
  {
   "cell_type": "code",
   "execution_count": 284,
   "metadata": {},
   "outputs": [
    {
     "data": {
      "text/plain": [
       "'Kumar'"
      ]
     },
     "execution_count": 284,
     "metadata": {},
     "output_type": "execute_result"
    }
   ],
   "source": [
    "match.group('last')"
   ]
  },
  {
   "cell_type": "code",
   "execution_count": 285,
   "metadata": {},
   "outputs": [
    {
     "data": {
      "text/plain": [
       "{'first': 'Nikhil', 'last': 'Kumar'}"
      ]
     },
     "execution_count": 285,
     "metadata": {},
     "output_type": "execute_result"
    }
   ],
   "source": [
    "match.groupdict()"
   ]
  },
  {
   "cell_type": "markdown",
   "metadata": {},
   "source": [
    "### Example 2\n",
    "\n",
    "Now consider the scenario where we want to swap first name and last name in above example."
   ]
  },
  {
   "cell_type": "code",
   "execution_count": 282,
   "metadata": {},
   "outputs": [
    {
     "data": {
      "text/plain": [
       "'Kumar Nikhil'"
      ]
     },
     "execution_count": 282,
     "metadata": {},
     "output_type": "execute_result"
    }
   ],
   "source": [
    "pattern.sub(r\"\\2 \\1\", txt)"
   ]
  },
  {
   "cell_type": "code",
   "execution_count": 283,
   "metadata": {},
   "outputs": [
    {
     "data": {
      "text/plain": [
       "'Kumar Nikhil'"
      ]
     },
     "execution_count": 283,
     "metadata": {},
     "output_type": "execute_result"
    }
   ],
   "source": [
    "pattern.sub(\"\\g<last> \\g<first>\", txt)"
   ]
  },
  {
   "cell_type": "markdown",
   "metadata": {},
   "source": [
    "### Example 3\n",
    "\n",
    "Consider a scenario where we want to check if a person has same first and last name."
   ]
  },
  {
   "cell_type": "code",
   "execution_count": 245,
   "metadata": {},
   "outputs": [],
   "source": [
    "txt = \"Jhonson Jhonson\""
   ]
  },
  {
   "cell_type": "code",
   "execution_count": 246,
   "metadata": {},
   "outputs": [],
   "source": [
    "pattern = re.compile(\"(?P<first>\\w+) (?P=first)\")"
   ]
  },
  {
   "cell_type": "code",
   "execution_count": 247,
   "metadata": {},
   "outputs": [
    {
     "data": {
      "text/plain": [
       "['Jhonson']"
      ]
     },
     "execution_count": 247,
     "metadata": {},
     "output_type": "execute_result"
    }
   ],
   "source": [
    "pattern.findall(txt)"
   ]
  },
  {
   "cell_type": "markdown",
   "metadata": {},
   "source": [
    "# Non-Capturing Groups\n",
    "\n",
    "> There are cases when we want to use groups, but we're not interested in extracting the information, i.e. capturing the matched text inside paranthesis only. An example is **alteration**.\n",
    "\n",
    "Let's consider an example where we want to find the strings `i love cats` or `i love dogs` in the given text."
   ]
  },
  {
   "cell_type": "code",
   "execution_count": 248,
   "metadata": {},
   "outputs": [],
   "source": [
    "txt = \"\"\"\n",
    "i love cats\n",
    "i love dogs\n",
    "\"\"\""
   ]
  },
  {
   "cell_type": "code",
   "execution_count": 249,
   "metadata": {},
   "outputs": [],
   "source": [
    "pattern = re.compile(\"i love (cats|dogs)\")"
   ]
  },
  {
   "cell_type": "code",
   "execution_count": 250,
   "metadata": {},
   "outputs": [
    {
     "data": {
      "text/plain": [
       "['cats', 'dogs']"
      ]
     },
     "execution_count": 250,
     "metadata": {},
     "output_type": "execute_result"
    }
   ],
   "source": [
    "pattern.findall(txt)"
   ]
  },
  {
   "cell_type": "code",
   "execution_count": 251,
   "metadata": {},
   "outputs": [
    {
     "name": "stdout",
     "output_type": "stream",
     "text": [
      "Complete regex match (default): i love cats\n",
      "Match captured by 1st group: cats\n",
      "Complete regex match (default): i love dogs\n",
      "Match captured by 1st group: dogs\n"
     ]
    }
   ],
   "source": [
    "for match in pattern.finditer(txt):\n",
    "    print(\"Complete regex match (default):\", match.group(0))\n",
    "    print(\"Match captured by 1st group:\", match.group(1))"
   ]
  },
  {
   "cell_type": "markdown",
   "metadata": {},
   "source": [
    "As we can see, the group captured part contains only `cats` or `dogs` instead of complete sentences.\n",
    "\n",
    "Hence, to make a group **non-capturing**, we have to use the syntax `(?:pattern)`."
   ]
  },
  {
   "cell_type": "code",
   "execution_count": 252,
   "metadata": {},
   "outputs": [],
   "source": [
    "pattern = re.compile(\"i love (?:cats|dogs)\")"
   ]
  },
  {
   "cell_type": "code",
   "execution_count": 253,
   "metadata": {},
   "outputs": [
    {
     "data": {
      "text/plain": [
       "['i love cats', 'i love dogs']"
      ]
     },
     "execution_count": 253,
     "metadata": {},
     "output_type": "execute_result"
    }
   ],
   "source": [
    "pattern.findall(txt)"
   ]
  },
  {
   "cell_type": "markdown",
   "metadata": {},
   "source": [
    "> After using the new syntax, we have the same functionality as before, but now we're saving resources and the regex is easier to maintain. Note that the group cannot be referenced."
   ]
  },
  {
   "cell_type": "markdown",
   "metadata": {},
   "source": [
    "# Zero-width assertions\n",
    "\n",
    "- Characters which indicate positions rather than actual content are called **zero-width assertions**.\n",
    "\n",
    "\n",
    "- For instance, the caret symbol (`^`) is a representation of the beginning of a line or the dollar sign (`$`) for the end of a line. \n",
    "\n",
    "\n",
    "- They effectively do assertion without consuming characters; they just return a positive or negative result of the match.\n",
    "\n",
    "\n",
    "- A more powerful kind of **zero-width assertion** is **look around**, a mechanism with which it is possible to match a certain previous (**look behind**) or ulterior (**look ahead**) value to the current position.\n",
    "\n",
    "\n",
    "# Look around\n",
    "\n",
    "\n",
    "**Look around** is a simple mechanism which during the matching process, at the current position, looks forward (or behind, depends on type of lookaround used) to see if **some** pattern matches before continuing with the actual match.\n",
    "\n",
    "The most important thing to understand here is that **look around** mechanism consists of 2 parts:\n",
    "- **actual expression**: an expression whose match constitutes the final **result**.\n",
    "- **non-consuming expression**: an expression whose match is evaluated before the actual expression, just to see if it can succeed. It is **not actually consumed** by the regex engine.\n",
    "    - If the non-consuming match **succeeds**, the regex engine forgets about this non-consuming expression and starts evaluating the next character from the current position of the actual expression. \n",
    "    - If the non-consuming match **does not succeed**, we simply move to next character of the given text and repeat the whole match process again.\n",
    "\n",
    "There are 2 main categories of **look around**  which, in turn, have 2 sub-categories each.\n",
    "\n",
    "![](images/lookaround.png)\n",
    "\n",
    "Let's explore each one of them one by one."
   ]
  },
  {
   "cell_type": "markdown",
   "metadata": {},
   "source": [
    "# Look ahead\n",
    "\n",
    "**Look ahead** mechanism checks the match for a non-consuming expression **ahead** of a given pattern.\n",
    "\n",
    "\n",
    "## Positive look ahead\n",
    "\n",
    "- **Positive look ahead** will succeed if the passed non-consuming expression **does match** against the forthcoming input.\n",
    "\n",
    "- The syntax is `A(?=B)` where `A` is the **actual expression** and `B` is the **non-consuming expression**. \n",
    "\n",
    "\n",
    "Let's check out an example to understand the concept. Let's assume that we want to find a match for `love` in the given text only if it is followed by `regex`."
   ]
  },
  {
   "cell_type": "code",
   "execution_count": 254,
   "metadata": {},
   "outputs": [],
   "source": [
    "txt = \"i love python, i love regex\""
   ]
  },
  {
   "cell_type": "code",
   "execution_count": 255,
   "metadata": {},
   "outputs": [],
   "source": [
    "pattern = re.compile('love regex')"
   ]
  },
  {
   "cell_type": "code",
   "execution_count": 256,
   "metadata": {},
   "outputs": [],
   "source": [
    "match = pattern.search(txt)"
   ]
  },
  {
   "cell_type": "code",
   "execution_count": 257,
   "metadata": {},
   "outputs": [
    {
     "data": {
      "text/plain": [
       "(17, 27)"
      ]
     },
     "execution_count": 257,
     "metadata": {},
     "output_type": "execute_result"
    }
   ],
   "source": [
    "match.span()"
   ]
  },
  {
   "cell_type": "code",
   "execution_count": 258,
   "metadata": {},
   "outputs": [
    {
     "data": {
      "text/plain": [
       "['love regex']"
      ]
     },
     "execution_count": 258,
     "metadata": {},
     "output_type": "execute_result"
    }
   ],
   "source": [
    "pattern.findall(txt)"
   ]
  },
  {
   "cell_type": "code",
   "execution_count": 259,
   "metadata": {},
   "outputs": [
    {
     "name": "stdout",
     "output_type": "stream",
     "text": [
      "i love python, i \u001b[43m\u001b[1mlove regex\u001b[0m\n"
     ]
    }
   ],
   "source": [
    "highlight_regex_matches(pattern, txt)"
   ]
  },
  {
   "cell_type": "markdown",
   "metadata": {},
   "source": [
    "As we can see, a total of 10 (index 17 to 27) characters, i.e. `love regex` are consumed to search for the given pattern in the text.\n",
    "\n",
    "Now consider the regex pattern `love(?=\\sregex)`."
   ]
  },
  {
   "cell_type": "code",
   "execution_count": 260,
   "metadata": {},
   "outputs": [],
   "source": [
    "pattern = re.compile(\"love(?=\\sregex)\")"
   ]
  },
  {
   "cell_type": "code",
   "execution_count": 261,
   "metadata": {},
   "outputs": [],
   "source": [
    "match = pattern.search(txt)"
   ]
  },
  {
   "cell_type": "code",
   "execution_count": 262,
   "metadata": {},
   "outputs": [
    {
     "data": {
      "text/plain": [
       "(17, 21)"
      ]
     },
     "execution_count": 262,
     "metadata": {},
     "output_type": "execute_result"
    }
   ],
   "source": [
    "match.span()"
   ]
  },
  {
   "cell_type": "code",
   "execution_count": 263,
   "metadata": {},
   "outputs": [
    {
     "name": "stdout",
     "output_type": "stream",
     "text": [
      "i love python, i \u001b[43m\u001b[1mlove\u001b[0m regex\n"
     ]
    }
   ],
   "source": [
    "highlight_regex_matches(pattern, txt)"
   ]
  },
  {
   "cell_type": "markdown",
   "metadata": {},
   "source": [
    "Now, using **positive look ahead** mechanism, we consumed only 4 (index 17 to 21) characters are consumed for the match.\n",
    "\n",
    "Let us check out another example to find all words in given text which are followed by `.` or `,`."
   ]
  },
  {
   "cell_type": "code",
   "execution_count": 264,
   "metadata": {},
   "outputs": [],
   "source": [
    "txt = \"My favorite colors are red, green, and blue.\""
   ]
  },
  {
   "cell_type": "code",
   "execution_count": 265,
   "metadata": {},
   "outputs": [],
   "source": [
    "pattern = re.compile(\"\\w+(?=,|\\.)\")"
   ]
  },
  {
   "cell_type": "code",
   "execution_count": 266,
   "metadata": {},
   "outputs": [
    {
     "data": {
      "text/plain": [
       "['red', 'green', 'blue']"
      ]
     },
     "execution_count": 266,
     "metadata": {},
     "output_type": "execute_result"
    }
   ],
   "source": [
    "pattern.findall(txt)"
   ]
  },
  {
   "cell_type": "code",
   "execution_count": 267,
   "metadata": {},
   "outputs": [
    {
     "name": "stdout",
     "output_type": "stream",
     "text": [
      "My favorite colors are \u001b[43m\u001b[1mred\u001b[0m, \u001b[43m\u001b[1mgreen\u001b[0m, and \u001b[43m\u001b[1mblue\u001b[0m.\n"
     ]
    }
   ],
   "source": [
    "highlight_regex_matches(pattern, txt)"
   ]
  },
  {
   "cell_type": "markdown",
   "metadata": {},
   "source": [
    "## Negative look ahead\n",
    "\n",
    "- **Negative look ahead** will succeed if the passed non-consuming expression **does not match** against the forthcoming input.\n",
    "\n",
    "- The syntax is `A(?!B)` where `A` is the **actual expression** and `B` is the **non-consuming expression**. \n",
    "\n",
    "\n",
    "Let's assume that we want to find a match for `love` in the given text only if it is NOT followed by `regex`."
   ]
  },
  {
   "cell_type": "code",
   "execution_count": 268,
   "metadata": {},
   "outputs": [],
   "source": [
    "txt = \"i love python, i love regex\""
   ]
  },
  {
   "cell_type": "code",
   "execution_count": 269,
   "metadata": {},
   "outputs": [],
   "source": [
    "pattern = re.compile(\"love(?!\\sregex)\")"
   ]
  },
  {
   "cell_type": "code",
   "execution_count": 270,
   "metadata": {},
   "outputs": [
    {
     "name": "stdout",
     "output_type": "stream",
     "text": [
      "i \u001b[43m\u001b[1mlove\u001b[0m python, i love regex\n"
     ]
    }
   ],
   "source": [
    "highlight_regex_matches(pattern, txt)"
   ]
  },
  {
   "cell_type": "markdown",
   "metadata": {},
   "source": [
    "# Look behind\n",
    "\n",
    "\n",
    "**Look behind** mechanism checks the match for a non-consuming expression **behind** a given pattern.\n",
    "\n",
    "\n",
    "## Positive look behind\n",
    "\n",
    "- **Positive look behind** will succeed if the passed non-consuming expression **does match** against the forthcoming input.\n",
    "\n",
    "- The syntax is `(?<=B)A` where `A` is the **actual expression** and `B` is the **non-consuming expression**. \n",
    "\n",
    "\n",
    "Let's check out an example to understand the concept. Let's assume that we want to find a match for `regex` in the given text only if it is succeeded by `love` or `hate`."
   ]
  },
  {
   "cell_type": "code",
   "execution_count": 271,
   "metadata": {},
   "outputs": [],
   "source": [
    "txt = \"love regex or hate regex, can't ignore regex\""
   ]
  },
  {
   "cell_type": "code",
   "execution_count": 272,
   "metadata": {},
   "outputs": [],
   "source": [
    "pattern = re.compile(\"(?<=(love|hate)\\s)regex\")"
   ]
  },
  {
   "cell_type": "code",
   "execution_count": 273,
   "metadata": {},
   "outputs": [
    {
     "name": "stdout",
     "output_type": "stream",
     "text": [
      "love \u001b[43m\u001b[1mregex\u001b[0m or hate \u001b[43m\u001b[1mregex\u001b[0m, can't ignore regex\n"
     ]
    }
   ],
   "source": [
    "highlight_regex_matches(pattern, txt)"
   ]
  },
  {
   "cell_type": "markdown",
   "metadata": {},
   "source": [
    "## Negative look behind\n",
    "\n",
    "- **Negative look behind** will succeed if the passed non-consuming expression **does not match** against the forthcoming input.\n",
    "\n",
    "- The syntax is `(?<!B)A` where `A` is the **actual expression** and `B` is the **non-consuming expression**. \n",
    "\n",
    "\n",
    "Let's assume that we want to find a match for `regex` in the given text if it is not followed by `love` or `hate`."
   ]
  },
  {
   "cell_type": "code",
   "execution_count": 274,
   "metadata": {},
   "outputs": [],
   "source": [
    "pattern = re.compile(\"(?<!(love|hate)\\s)regex\")"
   ]
  },
  {
   "cell_type": "code",
   "execution_count": 275,
   "metadata": {},
   "outputs": [
    {
     "name": "stdout",
     "output_type": "stream",
     "text": [
      "love regex or hate regex, can't ignore \u001b[43m\u001b[1mregex\u001b[0m\n"
     ]
    }
   ],
   "source": [
    "highlight_regex_matches(pattern, txt)"
   ]
  },
  {
   "cell_type": "code",
   "execution_count": null,
   "metadata": {},
   "outputs": [],
   "source": []
  }
 ],
 "metadata": {
  "kernelspec": {
   "display_name": "Python 3",
   "language": "python",
   "name": "python3"
  },
  "language_info": {
   "codemirror_mode": {
    "name": "ipython",
    "version": 3
   },
   "file_extension": ".py",
   "mimetype": "text/x-python",
   "name": "python",
   "nbconvert_exporter": "python",
   "pygments_lexer": "ipython3",
   "version": "3.7.4"
  }
 },
 "nbformat": 4,
 "nbformat_minor": 2
}
